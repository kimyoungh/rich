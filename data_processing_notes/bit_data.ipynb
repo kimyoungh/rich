{
 "cells": [
  {
   "cell_type": "code",
   "execution_count": null,
   "metadata": {},
   "outputs": [],
   "source": []
  }
 ],
 "metadata": {
  "kernelspec": {
   "display_name": "Python 3.8.5 ('base')",
   "language": "python",
   "name": "python3"
  },
  "language_info": {
   "name": "python",
   "version": "3.8.5"
  },
  "orig_nbformat": 4,
  "vscode": {
   "interpreter": {
    "hash": "ef8ac4889f6043c55355e98d75a56206a5f7d0164d5382bd7eb898daea766943"
   }
  }
 },
 "nbformat": 4,
 "nbformat_minor": 2
}
