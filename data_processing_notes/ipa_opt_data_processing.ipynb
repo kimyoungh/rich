{
 "cells": [
  {
   "cell_type": "code",
   "execution_count": 1,
   "metadata": {},
   "outputs": [
    {
     "name": "stdout",
     "output_type": "stream",
     "text": [
      "/Users/kimyoungh/GoogleDrive/rich/main/rich\n"
     ]
    }
   ],
   "source": [
    "cd .."
   ]
  },
  {
   "cell_type": "code",
   "execution_count": 2,
   "metadata": {},
   "outputs": [],
   "source": [
    "import numpy as np\n",
    "import pandas as pd\n",
    "\n",
    "from data_processing.processing_portfolio_training_data import ProcessingPortfolioTrainingData"
   ]
  },
  {
   "cell_type": "code",
   "execution_count": 3,
   "metadata": {},
   "outputs": [],
   "source": [
    "returns = pd.read_csv('index_strategy_returns.csv',\n",
    "                    header=0, index_col=0)"
   ]
  },
  {
   "cell_type": "code",
   "execution_count": 4,
   "metadata": {},
   "outputs": [],
   "source": [
    "ppt = ProcessingPortfolioTrainingData(returns)"
   ]
  },
  {
   "cell_type": "code",
   "execution_count": 5,
   "metadata": {},
   "outputs": [],
   "source": [
    "factors, weights, strategies, stock_codes,\\\n",
    "    trade_dates, factors_index, regimes = ppt.generate_opt_target_data()"
   ]
  },
  {
   "cell_type": "code",
   "execution_count": 6,
   "metadata": {},
   "outputs": [
    {
     "data": {
      "text/plain": [
       "['max_sr_5',\n",
       " 'max_sr_20',\n",
       " 'max_sr_60',\n",
       " 'max_sr_120',\n",
       " 'max_sr_250',\n",
       " 'dual_max_sr_5',\n",
       " 'dual_max_sr_20',\n",
       " 'dual_max_sr_60',\n",
       " 'dual_max_sr_120',\n",
       " 'dual_max_sr_250']"
      ]
     },
     "execution_count": 6,
     "metadata": {},
     "output_type": "execute_result"
    }
   ],
   "source": [
    "strategies"
   ]
  },
  {
   "cell_type": "code",
   "execution_count": 7,
   "metadata": {},
   "outputs": [
    {
     "data": {
      "text/plain": [
       "Int64Index([20030124, 20030127, 20030128, 20030129, 20030130, 20030203,\n",
       "            20030204, 20030205, 20030206, 20030207,\n",
       "            ...\n",
       "            20210322, 20210323, 20210324, 20210325, 20210326, 20210329,\n",
       "            20210330, 20210331, 20210401, 20210402],\n",
       "           dtype='int64', length=4499)"
      ]
     },
     "execution_count": 7,
     "metadata": {},
     "output_type": "execute_result"
    }
   ],
   "source": [
    "trade_dates"
   ]
  },
  {
   "cell_type": "code",
   "execution_count": 8,
   "metadata": {},
   "outputs": [
    {
     "name": "stdout",
     "output_type": "stream",
     "text": [
      "(4499, 4, 41)\n",
      "(10, 4499, 4)\n",
      "10\n",
      "4499\n",
      "(4499, 4, 2)\n",
      "(4499,)\n"
     ]
    }
   ],
   "source": [
    "print(factors.shape)\n",
    "print(weights.shape)\n",
    "print(len(strategies))\n",
    "print(len(trade_dates))\n",
    "print(factors_index.shape)\n",
    "print(regimes.shape)"
   ]
  },
  {
   "cell_type": "code",
   "execution_count": 9,
   "metadata": {},
   "outputs": [
    {
     "data": {
      "text/plain": [
       "array([1, 1, 1, ..., 1, 1, 1])"
      ]
     },
     "execution_count": 9,
     "metadata": {},
     "output_type": "execute_result"
    }
   ],
   "source": [
    "regimes[:-500]"
   ]
  },
  {
   "cell_type": "code",
   "execution_count": 10,
   "metadata": {},
   "outputs": [],
   "source": [
    "factors_train = factors[:-500]\n",
    "weights_train = weights[:, :-500]\n",
    "trade_dates_train = trade_dates[:-500]\n",
    "factors_index_train = factors_index[:-500]\n",
    "regimes_train = regimes[:-500]\n",
    "\n",
    "factors_test = factors[-500:]\n",
    "weights_test = weights[-500:]\n",
    "trade_dates_test = trade_dates[-500:]\n",
    "factors_index_test = factors_index[-500:]\n",
    "regimes_test = regimes[-500:]"
   ]
  },
  {
   "cell_type": "code",
   "execution_count": 11,
   "metadata": {},
   "outputs": [
    {
     "data": {
      "text/plain": [
       "['max_sr_5',\n",
       " 'max_sr_20',\n",
       " 'max_sr_60',\n",
       " 'max_sr_120',\n",
       " 'max_sr_250',\n",
       " 'dual_max_sr_5',\n",
       " 'dual_max_sr_20',\n",
       " 'dual_max_sr_60',\n",
       " 'dual_max_sr_120',\n",
       " 'dual_max_sr_250']"
      ]
     },
     "execution_count": 11,
     "metadata": {},
     "output_type": "execute_result"
    }
   ],
   "source": [
    "strategies"
   ]
  },
  {
   "cell_type": "code",
   "execution_count": 12,
   "metadata": {},
   "outputs": [],
   "source": [
    "data_path = \"train_data/portfolio/\"\n",
    "# Trainset\n",
    "np.save(data_path+\"factors_train.npy\", factors_train, allow_pickle=True)\n",
    "np.save(data_path+\"opt_weights_train.npy\", weights_train, allow_pickle=True)\n",
    "np.save(data_path+\"trade_dates_train.npy\", trade_dates_train,\n",
    "        allow_pickle=True)\n",
    "np.save(data_path+\"factors_index_train.npy\", factors_index_train,\n",
    "        allow_pickle=True)\n",
    "np.save(data_path+'regimes_train.npy', regimes_train, allow_pickle=True)\n",
    "\n",
    "# Testset\n",
    "np.save(data_path+\"factors_test.npy\", factors_test, allow_pickle=True)\n",
    "np.save(data_path+\"opt_weights_test.npy\", weights_test, allow_pickle=True)\n",
    "np.save(data_path+\"trade_dates_test.npy\", trade_dates_test,\n",
    "        allow_pickle=True)\n",
    "np.save(data_path+\"factors_index_test.npy\", factors_index_test,\n",
    "        allow_pickle=True)\n",
    "np.save(data_path+'regimes_test.npy', regimes_test, allow_pickle=True)\n",
    "\n",
    "import pickle\n",
    "with open(data_path+\"strategy_list.pkl\", 'wb') as f:\n",
    "        pickle.dump(strategies, f)"
   ]
  },
  {
   "cell_type": "code",
   "execution_count": 13,
   "metadata": {},
   "outputs": [],
   "source": [
    "from torch.utils.data import DataLoader\n",
    "\n",
    "from datasets.ipa_dataset import IPADataset"
   ]
  },
  {
   "cell_type": "code",
   "execution_count": 14,
   "metadata": {},
   "outputs": [],
   "source": [
    "dataset = IPADataset(factors_train, weights_train)\n",
    "dataloader = DataLoader(dataset, batch_size=32, shuffle=True)"
   ]
  },
  {
   "cell_type": "code",
   "execution_count": 15,
   "metadata": {},
   "outputs": [],
   "source": [
    "factors_t, weights_t, st_t = next(iter(dataloader))"
   ]
  },
  {
   "cell_type": "code",
   "execution_count": 16,
   "metadata": {},
   "outputs": [
    {
     "name": "stdout",
     "output_type": "stream",
     "text": [
      "torch.Size([32, 10, 4, 41])\n",
      "torch.Size([32, 10, 4])\n",
      "torch.Size([32, 10])\n"
     ]
    }
   ],
   "source": [
    "print(factors_t.shape)\n",
    "print(weights_t.shape)\n",
    "print(st_t.shape)"
   ]
  },
  {
   "cell_type": "code",
   "execution_count": 17,
   "metadata": {},
   "outputs": [
    {
     "data": {
      "text/plain": [
       "tensor([[0, 1, 2, 3, 4, 5, 6, 7, 8, 9],\n",
       "        [0, 1, 2, 3, 4, 5, 6, 7, 8, 9],\n",
       "        [0, 1, 2, 3, 4, 5, 6, 7, 8, 9],\n",
       "        [0, 1, 2, 3, 4, 5, 6, 7, 8, 9],\n",
       "        [0, 1, 2, 3, 4, 5, 6, 7, 8, 9],\n",
       "        [0, 1, 2, 3, 4, 5, 6, 7, 8, 9],\n",
       "        [0, 1, 2, 3, 4, 5, 6, 7, 8, 9],\n",
       "        [0, 1, 2, 3, 4, 5, 6, 7, 8, 9],\n",
       "        [0, 1, 2, 3, 4, 5, 6, 7, 8, 9],\n",
       "        [0, 1, 2, 3, 4, 5, 6, 7, 8, 9],\n",
       "        [0, 1, 2, 3, 4, 5, 6, 7, 8, 9],\n",
       "        [0, 1, 2, 3, 4, 5, 6, 7, 8, 9],\n",
       "        [0, 1, 2, 3, 4, 5, 6, 7, 8, 9],\n",
       "        [0, 1, 2, 3, 4, 5, 6, 7, 8, 9],\n",
       "        [0, 1, 2, 3, 4, 5, 6, 7, 8, 9],\n",
       "        [0, 1, 2, 3, 4, 5, 6, 7, 8, 9],\n",
       "        [0, 1, 2, 3, 4, 5, 6, 7, 8, 9],\n",
       "        [0, 1, 2, 3, 4, 5, 6, 7, 8, 9],\n",
       "        [0, 1, 2, 3, 4, 5, 6, 7, 8, 9],\n",
       "        [0, 1, 2, 3, 4, 5, 6, 7, 8, 9],\n",
       "        [0, 1, 2, 3, 4, 5, 6, 7, 8, 9],\n",
       "        [0, 1, 2, 3, 4, 5, 6, 7, 8, 9],\n",
       "        [0, 1, 2, 3, 4, 5, 6, 7, 8, 9],\n",
       "        [0, 1, 2, 3, 4, 5, 6, 7, 8, 9],\n",
       "        [0, 1, 2, 3, 4, 5, 6, 7, 8, 9],\n",
       "        [0, 1, 2, 3, 4, 5, 6, 7, 8, 9],\n",
       "        [0, 1, 2, 3, 4, 5, 6, 7, 8, 9],\n",
       "        [0, 1, 2, 3, 4, 5, 6, 7, 8, 9],\n",
       "        [0, 1, 2, 3, 4, 5, 6, 7, 8, 9],\n",
       "        [0, 1, 2, 3, 4, 5, 6, 7, 8, 9],\n",
       "        [0, 1, 2, 3, 4, 5, 6, 7, 8, 9],\n",
       "        [0, 1, 2, 3, 4, 5, 6, 7, 8, 9]])"
      ]
     },
     "execution_count": 17,
     "metadata": {},
     "output_type": "execute_result"
    }
   ],
   "source": [
    "st_t"
   ]
  },
  {
   "cell_type": "code",
   "execution_count": null,
   "metadata": {},
   "outputs": [],
   "source": []
  }
 ],
 "metadata": {
  "kernelspec": {
   "display_name": "Python 3.8.12",
   "language": "python",
   "name": "python3"
  },
  "language_info": {
   "codemirror_mode": {
    "name": "ipython",
    "version": 3
   },
   "file_extension": ".py",
   "mimetype": "text/x-python",
   "name": "python",
   "nbconvert_exporter": "python",
   "pygments_lexer": "ipython3",
   "version": "3.8.12"
  },
  "orig_nbformat": 4,
  "vscode": {
   "interpreter": {
    "hash": "5b193160d7cc1e01522e5642bc36993162f6c79445953eacfe5d439a85308880"
   }
  }
 },
 "nbformat": 4,
 "nbformat_minor": 2
}
