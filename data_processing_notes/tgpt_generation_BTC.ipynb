{
 "cells": [
  {
   "cell_type": "code",
   "execution_count": 1,
   "metadata": {},
   "outputs": [
    {
     "name": "stdout",
     "output_type": "stream",
     "text": [
      "/Users/kimyoungh/GoogleDrive/rich/main/rich\n"
     ]
    }
   ],
   "source": [
    "cd .."
   ]
  },
  {
   "cell_type": "code",
   "execution_count": 2,
   "metadata": {},
   "outputs": [],
   "source": [
    "import pickle\n",
    "import matplotlib.pyplot as plt\n",
    "import numpy as np\n",
    "import pandas as pd\n",
    "\n",
    "import pyupbit\n",
    "from data_processing.trading_gpt_data_generator import TradingGPTDataGenerator\n",
    "\n",
    "%load_ext autoreload\n",
    "%autoreload 2"
   ]
  },
  {
   "cell_type": "code",
   "execution_count": 3,
   "metadata": {},
   "outputs": [],
   "source": [
    "btc = pyupbit.get_ohlcv('KRW-BTC', interval='day', count=4000)"
   ]
  },
  {
   "cell_type": "code",
   "execution_count": 4,
   "metadata": {},
   "outputs": [
    {
     "data": {
      "text/html": [
       "<div>\n",
       "<style scoped>\n",
       "    .dataframe tbody tr th:only-of-type {\n",
       "        vertical-align: middle;\n",
       "    }\n",
       "\n",
       "    .dataframe tbody tr th {\n",
       "        vertical-align: top;\n",
       "    }\n",
       "\n",
       "    .dataframe thead th {\n",
       "        text-align: right;\n",
       "    }\n",
       "</style>\n",
       "<table border=\"1\" class=\"dataframe\">\n",
       "  <thead>\n",
       "    <tr style=\"text-align: right;\">\n",
       "      <th></th>\n",
       "      <th>open</th>\n",
       "      <th>high</th>\n",
       "      <th>low</th>\n",
       "      <th>close</th>\n",
       "      <th>volume</th>\n",
       "      <th>value</th>\n",
       "    </tr>\n",
       "  </thead>\n",
       "  <tbody>\n",
       "    <tr>\n",
       "      <th>2017-09-25 09:00:00</th>\n",
       "      <td>4201000.0</td>\n",
       "      <td>4333000.0</td>\n",
       "      <td>4175000.0</td>\n",
       "      <td>4322000.0</td>\n",
       "      <td>132.484755</td>\n",
       "      <td>5.602146e+08</td>\n",
       "    </tr>\n",
       "    <tr>\n",
       "      <th>2017-09-26 09:00:00</th>\n",
       "      <td>4317000.0</td>\n",
       "      <td>4418000.0</td>\n",
       "      <td>4311000.0</td>\n",
       "      <td>4321000.0</td>\n",
       "      <td>22.788340</td>\n",
       "      <td>9.950724e+07</td>\n",
       "    </tr>\n",
       "    <tr>\n",
       "      <th>2017-09-27 09:00:00</th>\n",
       "      <td>4322000.0</td>\n",
       "      <td>4677000.0</td>\n",
       "      <td>4318000.0</td>\n",
       "      <td>4657000.0</td>\n",
       "      <td>32.269662</td>\n",
       "      <td>1.448276e+08</td>\n",
       "    </tr>\n",
       "    <tr>\n",
       "      <th>2017-09-28 09:00:00</th>\n",
       "      <td>4657000.0</td>\n",
       "      <td>4772000.0</td>\n",
       "      <td>4519000.0</td>\n",
       "      <td>4586000.0</td>\n",
       "      <td>80.588243</td>\n",
       "      <td>3.721860e+08</td>\n",
       "    </tr>\n",
       "    <tr>\n",
       "      <th>2017-09-29 09:00:00</th>\n",
       "      <td>4586000.0</td>\n",
       "      <td>4709000.0</td>\n",
       "      <td>4476000.0</td>\n",
       "      <td>4657000.0</td>\n",
       "      <td>59.352373</td>\n",
       "      <td>2.724558e+08</td>\n",
       "    </tr>\n",
       "    <tr>\n",
       "      <th>...</th>\n",
       "      <td>...</td>\n",
       "      <td>...</td>\n",
       "      <td>...</td>\n",
       "      <td>...</td>\n",
       "      <td>...</td>\n",
       "      <td>...</td>\n",
       "    </tr>\n",
       "    <tr>\n",
       "      <th>2023-04-19 09:00:00</th>\n",
       "      <td>39637000.0</td>\n",
       "      <td>39719000.0</td>\n",
       "      <td>38181000.0</td>\n",
       "      <td>38300000.0</td>\n",
       "      <td>6118.482472</td>\n",
       "      <td>2.382898e+11</td>\n",
       "    </tr>\n",
       "    <tr>\n",
       "      <th>2023-04-20 09:00:00</th>\n",
       "      <td>38300000.0</td>\n",
       "      <td>38572000.0</td>\n",
       "      <td>37400000.0</td>\n",
       "      <td>37672000.0</td>\n",
       "      <td>5515.281884</td>\n",
       "      <td>2.098141e+11</td>\n",
       "    </tr>\n",
       "    <tr>\n",
       "      <th>2023-04-21 09:00:00</th>\n",
       "      <td>37672000.0</td>\n",
       "      <td>37779000.0</td>\n",
       "      <td>36108000.0</td>\n",
       "      <td>36337000.0</td>\n",
       "      <td>5934.619511</td>\n",
       "      <td>2.198194e+11</td>\n",
       "    </tr>\n",
       "    <tr>\n",
       "      <th>2023-04-22 09:00:00</th>\n",
       "      <td>36337000.0</td>\n",
       "      <td>37318000.0</td>\n",
       "      <td>36055000.0</td>\n",
       "      <td>37182000.0</td>\n",
       "      <td>3716.224626</td>\n",
       "      <td>1.359581e+11</td>\n",
       "    </tr>\n",
       "    <tr>\n",
       "      <th>2023-04-23 09:00:00</th>\n",
       "      <td>37182000.0</td>\n",
       "      <td>37198000.0</td>\n",
       "      <td>37080000.0</td>\n",
       "      <td>37080000.0</td>\n",
       "      <td>46.389863</td>\n",
       "      <td>1.722703e+09</td>\n",
       "    </tr>\n",
       "  </tbody>\n",
       "</table>\n",
       "<p>2037 rows × 6 columns</p>\n",
       "</div>"
      ],
      "text/plain": [
       "                           open        high         low       close  \\\n",
       "2017-09-25 09:00:00   4201000.0   4333000.0   4175000.0   4322000.0   \n",
       "2017-09-26 09:00:00   4317000.0   4418000.0   4311000.0   4321000.0   \n",
       "2017-09-27 09:00:00   4322000.0   4677000.0   4318000.0   4657000.0   \n",
       "2017-09-28 09:00:00   4657000.0   4772000.0   4519000.0   4586000.0   \n",
       "2017-09-29 09:00:00   4586000.0   4709000.0   4476000.0   4657000.0   \n",
       "...                         ...         ...         ...         ...   \n",
       "2023-04-19 09:00:00  39637000.0  39719000.0  38181000.0  38300000.0   \n",
       "2023-04-20 09:00:00  38300000.0  38572000.0  37400000.0  37672000.0   \n",
       "2023-04-21 09:00:00  37672000.0  37779000.0  36108000.0  36337000.0   \n",
       "2023-04-22 09:00:00  36337000.0  37318000.0  36055000.0  37182000.0   \n",
       "2023-04-23 09:00:00  37182000.0  37198000.0  37080000.0  37080000.0   \n",
       "\n",
       "                          volume         value  \n",
       "2017-09-25 09:00:00   132.484755  5.602146e+08  \n",
       "2017-09-26 09:00:00    22.788340  9.950724e+07  \n",
       "2017-09-27 09:00:00    32.269662  1.448276e+08  \n",
       "2017-09-28 09:00:00    80.588243  3.721860e+08  \n",
       "2017-09-29 09:00:00    59.352373  2.724558e+08  \n",
       "...                          ...           ...  \n",
       "2023-04-19 09:00:00  6118.482472  2.382898e+11  \n",
       "2023-04-20 09:00:00  5515.281884  2.098141e+11  \n",
       "2023-04-21 09:00:00  5934.619511  2.198194e+11  \n",
       "2023-04-22 09:00:00  3716.224626  1.359581e+11  \n",
       "2023-04-23 09:00:00    46.389863  1.722703e+09  \n",
       "\n",
       "[2037 rows x 6 columns]"
      ]
     },
     "execution_count": 4,
     "metadata": {},
     "output_type": "execute_result"
    }
   ],
   "source": [
    "btc"
   ]
  },
  {
   "cell_type": "code",
   "execution_count": 5,
   "metadata": {},
   "outputs": [],
   "source": [
    "gen = TradingGPTDataGenerator(btc.iloc[:-60], window=60)\n",
    "gen_test = TradingGPTDataGenerator(btc.iloc[-(60 + 60):], window=60)"
   ]
  },
  {
   "cell_type": "code",
   "execution_count": 6,
   "metadata": {},
   "outputs": [],
   "source": [
    "datasets = gen.generate_dataset()\n",
    "datasets_test = gen_test.generate_dataset()"
   ]
  },
  {
   "cell_type": "code",
   "execution_count": 7,
   "metadata": {},
   "outputs": [
    {
     "name": "stdout",
     "output_type": "stream",
     "text": [
      "(1917, 8)\n",
      "(60, 8)\n"
     ]
    }
   ],
   "source": [
    "print(datasets['observations'].shape)\n",
    "print(datasets_test['observations'].shape)"
   ]
  },
  {
   "cell_type": "code",
   "execution_count": 8,
   "metadata": {},
   "outputs": [
    {
     "name": "stdout",
     "output_type": "stream",
     "text": [
      "(1917,)\n",
      "(60,)\n"
     ]
    }
   ],
   "source": [
    "print(datasets['returns'].shape)\n",
    "print(datasets_test['returns'].shape)"
   ]
  },
  {
   "cell_type": "code",
   "execution_count": 9,
   "metadata": {},
   "outputs": [
    {
     "data": {
      "text/plain": [
       "array([[0.78165939, 0.16593886, 1.        , ..., 0.97039681, 0.94265561,\n",
       "        0.        ],\n",
       "       [0.70860129, 0.8090836 , 0.9708412 , ..., 1.        , 1.        ,\n",
       "        1.        ],\n",
       "       [0.27096115, 0.97034765, 1.        , ..., 1.        , 0.62000065,\n",
       "        1.        ],\n",
       "       ...,\n",
       "       [0.40103093, 0.03608247, 1.        , ..., 0.96700224, 0.52124942,\n",
       "        0.        ],\n",
       "       [0.37804878, 0.76916376, 0.96690902, ..., 1.        , 0.51107605,\n",
       "        1.        ],\n",
       "       [0.34220183, 0.20733945, 1.        , ..., 0.98641656, 0.61308437,\n",
       "        0.        ]])"
      ]
     },
     "execution_count": 9,
     "metadata": {},
     "output_type": "execute_result"
    }
   ],
   "source": [
    "datasets['observations']"
   ]
  },
  {
   "cell_type": "code",
   "execution_count": 10,
   "metadata": {},
   "outputs": [],
   "source": [
    "btc.to_parquet('train_data/trading_gpt/price_train_btc.pq')"
   ]
  },
  {
   "cell_type": "code",
   "execution_count": 11,
   "metadata": {},
   "outputs": [],
   "source": [
    "with open('train_data/trading_gpt/train_dataset_btc.pkl', 'wb') as f:\n",
    "    pickle.dump(datasets, f)\n",
    "\n",
    "with open('train_data/trading_gpt/test_dataset_btc.pkl', 'wb') as f:\n",
    "    pickle.dump(datasets_test, f)"
   ]
  },
  {
   "cell_type": "code",
   "execution_count": null,
   "metadata": {},
   "outputs": [],
   "source": []
  }
 ],
 "metadata": {
  "kernelspec": {
   "display_name": "Python 3.8.5 ('base')",
   "language": "python",
   "name": "python3"
  },
  "language_info": {
   "codemirror_mode": {
    "name": "ipython",
    "version": 3
   },
   "file_extension": ".py",
   "mimetype": "text/x-python",
   "name": "python",
   "nbconvert_exporter": "python",
   "pygments_lexer": "ipython3",
   "version": "3.9.13"
  },
  "orig_nbformat": 4,
  "vscode": {
   "interpreter": {
    "hash": "ef8ac4889f6043c55355e98d75a56206a5f7d0164d5382bd7eb898daea766943"
   }
  }
 },
 "nbformat": 4,
 "nbformat_minor": 2
}
