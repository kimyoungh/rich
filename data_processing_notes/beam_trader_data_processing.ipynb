{
 "cells": [
  {
   "cell_type": "code",
   "execution_count": 1,
   "metadata": {},
   "outputs": [
    {
     "name": "stdout",
     "output_type": "stream",
     "text": [
      "/Users/kimyoungh/GoogleDrive/rich/main/rich\n"
     ]
    }
   ],
   "source": [
    "cd .."
   ]
  },
  {
   "cell_type": "code",
   "execution_count": 10,
   "metadata": {},
   "outputs": [
    {
     "name": "stdout",
     "output_type": "stream",
     "text": [
      "The autoreload extension is already loaded. To reload it, use:\n",
      "  %reload_ext autoreload\n"
     ]
    }
   ],
   "source": [
    "import numpy as np\n",
    "import pandas as pd\n",
    "\n",
    "import torch\n",
    "\n",
    "from data_processing.price_factor_processor import PriceFactorProcessor\n",
    "from data_processing.processing_beamtrader_training_data import ProcessingBeamTraderTrainingData\n",
    "\n",
    "%load_ext autoreload\n",
    "%autoreload 2"
   ]
  },
  {
   "cell_type": "code",
   "execution_count": 3,
   "metadata": {},
   "outputs": [],
   "source": [
    "global_index = pd.read_parquet(\n",
    "    'trading_data/global_index_series.pq')"
   ]
  },
  {
   "cell_type": "code",
   "execution_count": 4,
   "metadata": {},
   "outputs": [],
   "source": [
    "global_index.index.name = None\n",
    "global_index.columns.name = None\n",
    "\n",
    "gindex = pd.Series(global_index.index.to_pydatetime())\n",
    "gindex = gindex.apply(lambda x: x.strftime('%Y%m%d'))\n",
    "\n",
    "global_index.index = gindex\n",
    "\n",
    "global_returns = global_index.pct_change().iloc[1:]"
   ]
  },
  {
   "cell_type": "code",
   "execution_count": 5,
   "metadata": {},
   "outputs": [],
   "source": [
    "returns = pd.read_csv('index_strategy_returns.csv',\n",
    "                    index_col=0, header=0)\n",
    "returns.index = returns.index.astype(str)"
   ]
  },
  {
   "cell_type": "code",
   "execution_count": 6,
   "metadata": {},
   "outputs": [],
   "source": [
    "rindex = returns.loc[global_returns.index[0]:].index\n",
    "\n",
    "global_returns = global_returns.reindex(rindex).ffill()\n",
    "returns = returns.reindex(rindex)"
   ]
  },
  {
   "cell_type": "code",
   "execution_count": 7,
   "metadata": {},
   "outputs": [
    {
     "data": {
      "text/html": [
       "<div>\n",
       "<style scoped>\n",
       "    .dataframe tbody tr th:only-of-type {\n",
       "        vertical-align: middle;\n",
       "    }\n",
       "\n",
       "    .dataframe tbody tr th {\n",
       "        vertical-align: top;\n",
       "    }\n",
       "\n",
       "    .dataframe thead th {\n",
       "        text-align: right;\n",
       "    }\n",
       "</style>\n",
       "<table border=\"1\" class=\"dataframe\">\n",
       "  <thead>\n",
       "    <tr style=\"text-align: right;\">\n",
       "      <th></th>\n",
       "      <th>K200</th>\n",
       "      <th>KQ</th>\n",
       "      <th>K200_i</th>\n",
       "      <th>KQ_i</th>\n",
       "    </tr>\n",
       "  </thead>\n",
       "  <tbody>\n",
       "    <tr>\n",
       "      <th>20060103</th>\n",
       "      <td>0.006152</td>\n",
       "      <td>0.007250</td>\n",
       "      <td>-0.006152</td>\n",
       "      <td>-0.007250</td>\n",
       "    </tr>\n",
       "    <tr>\n",
       "      <th>20060104</th>\n",
       "      <td>-0.006059</td>\n",
       "      <td>-0.005159</td>\n",
       "      <td>0.006059</td>\n",
       "      <td>0.005159</td>\n",
       "    </tr>\n",
       "    <tr>\n",
       "      <th>20060105</th>\n",
       "      <td>0.011464</td>\n",
       "      <td>0.014172</td>\n",
       "      <td>-0.011464</td>\n",
       "      <td>-0.014172</td>\n",
       "    </tr>\n",
       "    <tr>\n",
       "      <th>20060106</th>\n",
       "      <td>-0.003151</td>\n",
       "      <td>0.009075</td>\n",
       "      <td>0.003151</td>\n",
       "      <td>-0.009075</td>\n",
       "    </tr>\n",
       "    <tr>\n",
       "      <th>20060109</th>\n",
       "      <td>-0.007321</td>\n",
       "      <td>-0.012164</td>\n",
       "      <td>0.007321</td>\n",
       "      <td>0.012164</td>\n",
       "    </tr>\n",
       "    <tr>\n",
       "      <th>...</th>\n",
       "      <td>...</td>\n",
       "      <td>...</td>\n",
       "      <td>...</td>\n",
       "      <td>...</td>\n",
       "    </tr>\n",
       "    <tr>\n",
       "      <th>20220401</th>\n",
       "      <td>0.004818</td>\n",
       "      <td>0.007176</td>\n",
       "      <td>-0.004818</td>\n",
       "      <td>-0.007176</td>\n",
       "    </tr>\n",
       "    <tr>\n",
       "      <th>20220404</th>\n",
       "      <td>-0.000548</td>\n",
       "      <td>0.005436</td>\n",
       "      <td>0.000548</td>\n",
       "      <td>-0.005436</td>\n",
       "    </tr>\n",
       "    <tr>\n",
       "      <th>20220405</th>\n",
       "      <td>-0.010226</td>\n",
       "      <td>-0.009806</td>\n",
       "      <td>0.010226</td>\n",
       "      <td>0.009806</td>\n",
       "    </tr>\n",
       "    <tr>\n",
       "      <th>20220406</th>\n",
       "      <td>-0.014626</td>\n",
       "      <td>-0.016095</td>\n",
       "      <td>0.014626</td>\n",
       "      <td>0.016095</td>\n",
       "    </tr>\n",
       "    <tr>\n",
       "      <th>20220407</th>\n",
       "      <td>0.000787</td>\n",
       "      <td>0.007306</td>\n",
       "      <td>-0.000787</td>\n",
       "      <td>-0.007306</td>\n",
       "    </tr>\n",
       "  </tbody>\n",
       "</table>\n",
       "<p>4019 rows × 4 columns</p>\n",
       "</div>"
      ],
      "text/plain": [
       "              K200        KQ    K200_i      KQ_i\n",
       "20060103  0.006152  0.007250 -0.006152 -0.007250\n",
       "20060104 -0.006059 -0.005159  0.006059  0.005159\n",
       "20060105  0.011464  0.014172 -0.011464 -0.014172\n",
       "20060106 -0.003151  0.009075  0.003151 -0.009075\n",
       "20060109 -0.007321 -0.012164  0.007321  0.012164\n",
       "...            ...       ...       ...       ...\n",
       "20220401  0.004818  0.007176 -0.004818 -0.007176\n",
       "20220404 -0.000548  0.005436  0.000548 -0.005436\n",
       "20220405 -0.010226 -0.009806  0.010226  0.009806\n",
       "20220406 -0.014626 -0.016095  0.014626  0.016095\n",
       "20220407  0.000787  0.007306 -0.000787 -0.007306\n",
       "\n",
       "[4019 rows x 4 columns]"
      ]
     },
     "execution_count": 7,
     "metadata": {},
     "output_type": "execute_result"
    }
   ],
   "source": [
    "returns"
   ]
  },
  {
   "cell_type": "code",
   "execution_count": 8,
   "metadata": {},
   "outputs": [],
   "source": [
    "pbtt = ProcessingBeamTraderTrainingData(\n",
    "    returns, seq_len=10, trading_fee=0.004,\n",
    "    beam_width=100, n_expand=200, discount=0.99,\n",
    ")"
   ]
  },
  {
   "cell_type": "code",
   "execution_count": 9,
   "metadata": {},
   "outputs": [],
   "source": [
    "factors, best_seqs, best_rebal_seqs,\\\n",
    "    best_rews, best_rebal_rews,\\\n",
    "    best_vals, best_rebal_vals,\\\n",
    "    trade_dates, factors_index, regimes = pbtt.generate_target_data()"
   ]
  },
  {
   "cell_type": "code",
   "execution_count": 11,
   "metadata": {},
   "outputs": [
    {
     "name": "stdout",
     "output_type": "stream",
     "text": [
      "(3759, 4, 69)\n",
      "(3759, 10)\n",
      "(3759, 5, 10)\n",
      "(3759,)\n",
      "(3759, 4, 2)\n",
      "(3759,)\n"
     ]
    }
   ],
   "source": [
    "print(factors.shape)\n",
    "print(best_seqs.shape)\n",
    "print(best_rebal_seqs.shape)\n",
    "print(trade_dates.shape)\n",
    "print(factors_index.shape)\n",
    "print(regimes.shape)"
   ]
  },
  {
   "cell_type": "code",
   "execution_count": 12,
   "metadata": {},
   "outputs": [],
   "source": [
    "pfp = PriceFactorProcessor(global_returns)\n",
    "gfactors, gfactors_index, gtrade_dates = pfp.calculate_mf()"
   ]
  },
  {
   "cell_type": "code",
   "execution_count": 15,
   "metadata": {},
   "outputs": [],
   "source": [
    "gfactors = gfactors[:len(factors)]\n",
    "gfactors_index = gfactors_index[:len(factors)]\n",
    "gtrade_dates = gtrade_dates[:len(factors)]"
   ]
  },
  {
   "cell_type": "code",
   "execution_count": 17,
   "metadata": {},
   "outputs": [
    {
     "name": "stdout",
     "output_type": "stream",
     "text": [
      "(3759, 173, 69)\n",
      "(3759, 173, 2)\n",
      "(3759,)\n"
     ]
    }
   ],
   "source": [
    "print(gfactors.shape)\n",
    "print(gfactors_index.shape)\n",
    "print(gtrade_dates.shape)"
   ]
  },
  {
   "cell_type": "code",
   "execution_count": 18,
   "metadata": {},
   "outputs": [],
   "source": [
    "factors_train = factors[:-500]\n",
    "factors_test = factors[-500:]\n",
    "\n",
    "gfactors_train = gfactors[:-500]\n",
    "gfactors_test = gfactors[-500:]\n",
    "\n",
    "best_seqs_train = best_seqs[:-500]\n",
    "best_seqs_test = best_seqs[-500:]\n",
    "\n",
    "best_rebal_seqs_train = best_rebal_seqs[:-500]\n",
    "best_rebal_seqs_test = best_rebal_seqs[-500:]\n",
    "\n",
    "best_rews_train = best_rews[:-500]\n",
    "best_rews_test = best_rews[-500:]\n",
    "\n",
    "best_rebal_rews_train = best_rebal_rews[:-500]\n",
    "best_rebal_rews_test = best_rebal_rews[-500:]\n",
    "\n",
    "best_vals_train = best_vals[:-500]\n",
    "best_vals_test = best_vals[-500:]\n",
    "\n",
    "best_rebal_vals_train = best_rebal_vals[:-500]\n",
    "best_rebal_vals_test = best_rebal_vals[-500:]\n",
    "\n",
    "trade_dates_train = trade_dates[:-500]\n",
    "trade_dates_test = trade_dates[-500:]\n",
    "\n",
    "factors_index_train = factors_index[:-500]\n",
    "factors_index_test = factors_index[-500:]\n",
    "\n",
    "gfactors_index_train = gfactors_index[:-500]\n",
    "gfactors_index_test = gfactors_index[-500:]\n",
    "\n",
    "regimes_train = regimes[:-500]\n",
    "regimes_test = regimes[-500:]"
   ]
  },
  {
   "cell_type": "code",
   "execution_count": 19,
   "metadata": {},
   "outputs": [],
   "source": [
    "data_path = \"./train_data/beam_trader/\"\n",
    "\n",
    "np.save(data_path+\"factors_train.npy\", factors_train,\n",
    "        allow_pickle=True)\n",
    "np.save(data_path+\"factors_test.npy\", factors_test,\n",
    "        allow_pickle=True)\n",
    "\n",
    "np.save(data_path+\"gfactors_train.npy\", gfactors_train,\n",
    "        allow_pickle=True)\n",
    "np.save(data_path+\"gfactors_test.npy\", gfactors_test,\n",
    "        allow_pickle=True)\n",
    "\n",
    "np.save(data_path+\"best_seqs_train.npy\", best_seqs_train,\n",
    "        allow_pickle=True)\n",
    "np.save(data_path+\"best_seqs_test.npy\", best_seqs_test,\n",
    "        allow_pickle=True)\n",
    "\n",
    "np.save(data_path+\"best_rebal_seqs_train.npy\",\n",
    "        best_rebal_seqs_train,\n",
    "        allow_pickle=True)\n",
    "np.save(data_path+\"best_rebal_seqs_test.npy\",\n",
    "        best_rebal_seqs_test,\n",
    "        allow_pickle=True)\n",
    "\n",
    "np.save(data_path+\"best_rews_train.npy\", best_rews_train,\n",
    "        allow_pickle=True)\n",
    "np.save(data_path+\"best_rews_test.npy\", best_rews_test,\n",
    "        allow_pickle=True)\n",
    "\n",
    "np.save(data_path+\"best_rebal_rews_train.npy\",\n",
    "        best_rebal_rews_train,\n",
    "        allow_pickle=True)\n",
    "np.save(data_path+\"best_rebal_rews_test.npy\",\n",
    "        best_rebal_rews_test,\n",
    "        allow_pickle=True)\n",
    "\n",
    "np.save(data_path+\"best_vals_train.npy\", best_vals_train,\n",
    "        allow_pickle=True)\n",
    "np.save(data_path+\"best_vals_test.npy\", best_vals_test,\n",
    "        allow_pickle=True)\n",
    "\n",
    "np.save(data_path+\"best_rebal_vals_train.npy\",\n",
    "        best_rebal_vals_train,\n",
    "        allow_pickle=True)\n",
    "np.save(data_path+\"best_rebal_vals_test.npy\",\n",
    "        best_rebal_vals_test,\n",
    "        allow_pickle=True)\n",
    "\n",
    "np.save(data_path+\"trade_dates_train.npy\",\n",
    "        trade_dates_train,\n",
    "        allow_pickle=True)\n",
    "np.save(data_path+\"trade_dates_test.npy\",\n",
    "        trade_dates_test,\n",
    "        allow_pickle=True)\n",
    "\n",
    "np.save(data_path+\"factors_index_train.npy\",\n",
    "        factors_index_train,\n",
    "        allow_pickle=True)\n",
    "np.save(data_path+\"factors_index_test.npy\",\n",
    "        factors_index_test,\n",
    "        allow_pickle=True)\n",
    "\n",
    "np.save(data_path+\"gfactors_index_train.npy\",\n",
    "        gfactors_index_train,\n",
    "        allow_pickle=True)\n",
    "np.save(data_path+\"gfactors_index_test.npy\",\n",
    "        gfactors_index_test,\n",
    "        allow_pickle=True)\n",
    "\n",
    "np.save(data_path+\"regimes_train.npy\", regimes_train,\n",
    "        allow_pickle=True)\n",
    "np.save(data_path+\"regimes_test.npy\", regimes_test,\n",
    "        allow_pickle=True)"
   ]
  },
  {
   "cell_type": "code",
   "execution_count": 20,
   "metadata": {},
   "outputs": [
    {
     "data": {
      "text/plain": [
       "array([[0, 4, 4, 1, 3, 1, 1, 1, 1, 3],\n",
       "       [1, 4, 4, 1, 3, 1, 1, 1, 1, 3],\n",
       "       [2, 4, 4, 1, 3, 1, 1, 1, 1, 3],\n",
       "       [3, 3, 3, 1, 3, 1, 1, 1, 1, 3],\n",
       "       [4, 4, 4, 1, 3, 1, 1, 1, 1, 3]])"
      ]
     },
     "execution_count": 20,
     "metadata": {},
     "output_type": "execute_result"
    }
   ],
   "source": [
    "best_rebal_seqs[700]"
   ]
  },
  {
   "cell_type": "code",
   "execution_count": null,
   "metadata": {},
   "outputs": [],
   "source": []
  }
 ],
 "metadata": {
  "kernelspec": {
   "display_name": "Python 3.8.12 ('pytorch_m1')",
   "language": "python",
   "name": "python3"
  },
  "language_info": {
   "codemirror_mode": {
    "name": "ipython",
    "version": 3
   },
   "file_extension": ".py",
   "mimetype": "text/x-python",
   "name": "python",
   "nbconvert_exporter": "python",
   "pygments_lexer": "ipython3",
   "version": "3.8.12"
  },
  "orig_nbformat": 4,
  "vscode": {
   "interpreter": {
    "hash": "5b193160d7cc1e01522e5642bc36993162f6c79445953eacfe5d439a85308880"
   }
  }
 },
 "nbformat": 4,
 "nbformat_minor": 2
}
