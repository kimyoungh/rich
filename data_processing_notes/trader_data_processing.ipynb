{
 "cells": [
  {
   "cell_type": "code",
   "execution_count": 1,
   "metadata": {},
   "outputs": [
    {
     "name": "stdout",
     "output_type": "stream",
     "text": [
      "/Users/kimyoungh/GoogleDrive/rich/main/rich\n"
     ]
    }
   ],
   "source": [
    "cd .."
   ]
  },
  {
   "cell_type": "code",
   "execution_count": 2,
   "metadata": {},
   "outputs": [],
   "source": [
    "import numpy as np\n",
    "import pandas as pd\n",
    "\n",
    "from data_processing.price_factor_processor import PriceFactorProcessor\n",
    "from data_processing.processing_trader_training_data import ProcessingTraderTrainingData\n",
    "\n",
    "%load_ext autoreload\n",
    "%autoreload 2"
   ]
  },
  {
   "cell_type": "code",
   "execution_count": 3,
   "metadata": {},
   "outputs": [],
   "source": [
    "returns = pd.read_csv('index_strategy_returns.csv', header=0, index_col=0)\n",
    "returns.index = returns.index.astype(str)"
   ]
  },
  {
   "cell_type": "code",
   "execution_count": 4,
   "metadata": {},
   "outputs": [],
   "source": [
    "returns['K200_2X'] = returns['K200'] * 2.\n",
    "returns['KQ_2X'] = returns['KQ'] * 2.\n",
    "returns['K200_i_2X'] = returns['K200_i'] * 2."
   ]
  },
  {
   "cell_type": "code",
   "execution_count": 5,
   "metadata": {},
   "outputs": [],
   "source": [
    "global_index_series = pd.read_parquet('trading_data/global_index_series.pq')\n",
    "\n",
    "gindex = global_index_series.index.to_pydatetime()\n",
    "gindex = pd.Series(gindex).apply(lambda x: x.strftime('%Y%m%d'))"
   ]
  },
  {
   "cell_type": "code",
   "execution_count": 6,
   "metadata": {},
   "outputs": [],
   "source": [
    "gindex = gindex.values\n",
    "\n",
    "global_index = pd.DataFrame(global_index_series.values,\n",
    "                            index=gindex,\n",
    "                            columns=global_index_series.columns.values)\n",
    "\n",
    "spos = np.argwhere(returns.index == global_index.index[1]).item()\n",
    "gepos = np.argwhere(global_index.index == returns.index[-1]).item()\n",
    "\n",
    "total_index = global_index.index.append(returns.index).unique().sort_values()\n",
    "\n",
    "global_index_t = pd.DataFrame(global_index,\n",
    "    index=total_index).ffill().loc[returns.index]\n",
    "greturns = global_index_t.pct_change().shift(1).dropna()\n",
    "returns = returns.loc[greturns.index]\n",
    "\n",
    "returns_train = returns.iloc[:-550]\n",
    "returns_test = returns.iloc[-249-550:]\n",
    "\n",
    "greturns_train = greturns.iloc[:-550]\n",
    "greturns_test = greturns.iloc[-249-550:]"
   ]
  },
  {
   "cell_type": "code",
   "execution_count": 7,
   "metadata": {},
   "outputs": [
    {
     "name": "stdout",
     "output_type": "stream",
     "text": [
      "(3468, 7)\n",
      "(799, 7)\n",
      "(3468, 173)\n",
      "(799, 173)\n"
     ]
    }
   ],
   "source": [
    "print(returns_train.shape)\n",
    "print(returns_test.shape)\n",
    "print(greturns_train.shape)\n",
    "print(greturns_test.shape)"
   ]
  },
  {
   "cell_type": "code",
   "execution_count": 9,
   "metadata": {},
   "outputs": [],
   "source": [
    "pttd_train = ProcessingTraderTrainingData(returns_train,\n",
    "    greturns_train, window=60)\n",
    "pttd_test = ProcessingTraderTrainingData(returns_test,\n",
    "    greturns_test, window=60)"
   ]
  },
  {
   "cell_type": "code",
   "execution_count": 10,
   "metadata": {},
   "outputs": [
    {
     "name": "stderr",
     "output_type": "stream",
     "text": [
      "/Users/kimyoungh/miniforge3/envs/pytorch_m1/lib/python3.8/site-packages/cvxpy/problems/problem.py:1296: UserWarning: Solution may be inaccurate. Try another solver, adjusting the solver settings, or solve with verbose=True for more information.\n",
      "  warnings.warn(\n"
     ]
    }
   ],
   "source": [
    "factors_train, gfactors_train, weights_train, stock_codes_train,\\\n",
    "    trade_dates_train, gtrade_dates_train, factors_index_train,\\\n",
    "    gfactors_index_train,\\\n",
    "        return_series_train = pttd_train.generate_target_data()"
   ]
  },
  {
   "cell_type": "code",
   "execution_count": 11,
   "metadata": {},
   "outputs": [],
   "source": [
    "factors_test, gfactors_test, weights_test, stock_codes_test,\\\n",
    "    trade_dates_test, gtrade_dates_test, factors_index_test,\\\n",
    "    gfactors_index_test,\\\n",
    "        return_series_test = pttd_test.generate_target_data()"
   ]
  },
  {
   "cell_type": "code",
   "execution_count": 12,
   "metadata": {},
   "outputs": [
    {
     "name": "stdout",
     "output_type": "stream",
     "text": [
      "(3159, 7, 69)\n",
      "(3159, 173, 69)\n",
      "(3159, 7)\n",
      "(7,)\n",
      "(3159,)\n",
      "(3219,)\n",
      "(3159, 7, 2)\n",
      "(3159, 173, 2)\n",
      "(3159, 60, 7)\n"
     ]
    }
   ],
   "source": [
    "print(factors_train.shape)\n",
    "print(gfactors_train.shape)\n",
    "print(weights_train.shape)\n",
    "print(stock_codes_train.shape)\n",
    "print(trade_dates_train.shape)\n",
    "print(gtrade_dates_train.shape)\n",
    "print(factors_index_train.shape)\n",
    "print(gfactors_index_train.shape)\n",
    "print(return_series_train.shape)"
   ]
  },
  {
   "cell_type": "code",
   "execution_count": 13,
   "metadata": {},
   "outputs": [
    {
     "name": "stdout",
     "output_type": "stream",
     "text": [
      "(490, 7, 69)\n",
      "(490, 173, 69)\n",
      "(490, 7)\n",
      "(7,)\n",
      "(490,)\n",
      "(550,)\n",
      "(490, 7, 2)\n",
      "(490, 173, 2)\n",
      "(490, 60, 7)\n"
     ]
    }
   ],
   "source": [
    "print(factors_test.shape)\n",
    "print(gfactors_test.shape)\n",
    "print(weights_test.shape)\n",
    "print(stock_codes_test.shape)\n",
    "print(trade_dates_test.shape)\n",
    "print(gtrade_dates_test.shape)\n",
    "print(factors_index_test.shape)\n",
    "print(gfactors_index_test.shape)\n",
    "print(return_series_test.shape)"
   ]
  },
  {
   "cell_type": "code",
   "execution_count": 14,
   "metadata": {},
   "outputs": [],
   "source": [
    "data_path = \"./train_data/trader/\"\n",
    "\n",
    "np.save(data_path+\"factors_train.npy\", factors_train, allow_pickle=True)\n",
    "np.save(data_path+\"gfactors_train.npy\", gfactors_train, allow_pickle=True)\n",
    "np.save(data_path+\"weights_train.npy\", weights_train, allow_pickle=True)\n",
    "np.save(data_path+\"stock_codes.npy\", stock_codes_train, allow_pickle=True)\n",
    "np.save(data_path+\"trade_dates_train.npy\", trade_dates_train,\n",
    "    allow_pickle=True)\n",
    "np.save(data_path+\"factors_index_train.npy\", factors_index_train,\n",
    "    allow_pickle=True)\n",
    "np.save(data_path+\"gfactors_index_train.npy\", gfactors_index_train,\n",
    "    allow_pickle=True)\n",
    "np.save(data_path+\"return_series_train.npy\", return_series_train,\n",
    "    allow_pickle=True)"
   ]
  },
  {
   "cell_type": "code",
   "execution_count": 15,
   "metadata": {},
   "outputs": [],
   "source": [
    "np.save(data_path+\"factors_test.npy\", factors_test, allow_pickle=True)\n",
    "np.save(data_path+\"gfactors_test.npy\", gfactors_test, allow_pickle=True)\n",
    "np.save(data_path+\"weights_test.npy\", weights_test, allow_pickle=True)\n",
    "np.save(data_path+\"stock_codes_test.npy\", stock_codes_test, allow_pickle=True)\n",
    "np.save(data_path+\"trade_dates_test.npy\", trade_dates_test,\n",
    "    allow_pickle=True)\n",
    "np.save(data_path+\"factors_index_test.npy\", factors_index_test,\n",
    "    allow_pickle=True)\n",
    "np.save(data_path+\"gfactors_index_test.npy\", gfactors_index_test,\n",
    "    allow_pickle=True)\n",
    "np.save(data_path+\"return_series_test.npy\", return_series_test,\n",
    "    allow_pickle=True)"
   ]
  },
  {
   "cell_type": "code",
   "execution_count": 16,
   "metadata": {},
   "outputs": [
    {
     "name": "stdout",
     "output_type": "stream",
     "text": [
      "(3159, 7, 69)\n",
      "(3159, 7)\n",
      "(3159, 173, 69)\n",
      "(3159, 60, 7)\n"
     ]
    }
   ],
   "source": [
    "print(factors_train.shape)\n",
    "print(weights_train.shape)\n",
    "print(gfactors_train.shape)\n",
    "print(return_series_train.shape)"
   ]
  },
  {
   "cell_type": "code",
   "execution_count": 17,
   "metadata": {},
   "outputs": [
    {
     "name": "stdout",
     "output_type": "stream",
     "text": [
      "(490, 7, 69)\n",
      "(490, 7)\n",
      "(490, 173, 69)\n",
      "(490, 60, 7)\n"
     ]
    }
   ],
   "source": [
    "print(factors_test.shape)\n",
    "print(weights_test.shape)\n",
    "print(gfactors_test.shape)\n",
    "print(return_series_test.shape)"
   ]
  },
  {
   "cell_type": "code",
   "execution_count": null,
   "metadata": {},
   "outputs": [],
   "source": []
  }
 ],
 "metadata": {
  "kernelspec": {
   "display_name": "Python 3.8.12 ('pytorch_m1')",
   "language": "python",
   "name": "python3"
  },
  "language_info": {
   "codemirror_mode": {
    "name": "ipython",
    "version": 3
   },
   "file_extension": ".py",
   "mimetype": "text/x-python",
   "name": "python",
   "nbconvert_exporter": "python",
   "pygments_lexer": "ipython3",
   "version": "3.8.12"
  },
  "orig_nbformat": 4,
  "vscode": {
   "interpreter": {
    "hash": "5b193160d7cc1e01522e5642bc36993162f6c79445953eacfe5d439a85308880"
   }
  }
 },
 "nbformat": 4,
 "nbformat_minor": 2
}
