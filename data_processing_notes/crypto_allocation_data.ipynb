{
 "cells": [
  {
   "cell_type": "code",
   "execution_count": 1,
   "metadata": {},
   "outputs": [
    {
     "name": "stdout",
     "output_type": "stream",
     "text": [
      "/Users/kimyoungh/GoogleDrive/rich/main/rich\n"
     ]
    }
   ],
   "source": [
    "cd .."
   ]
  },
  {
   "cell_type": "code",
   "execution_count": 38,
   "metadata": {},
   "outputs": [
    {
     "name": "stdout",
     "output_type": "stream",
     "text": [
      "The autoreload extension is already loaded. To reload it, use:\n",
      "  %reload_ext autoreload\n"
     ]
    }
   ],
   "source": [
    "import numpy as np\n",
    "import pandas as pd\n",
    "\n",
    "import torch\n",
    "\n",
    "import pyupbit\n",
    "\n",
    "from models.picking_transformer2 import PickingTransformer2\n",
    "\n",
    "%load_ext autoreload\n",
    "%autoreload 2"
   ]
  },
  {
   "cell_type": "code",
   "execution_count": 99,
   "metadata": {},
   "outputs": [],
   "source": [
    "# Raw Data Loading\n",
    "tickers = pyupbit.get_tickers(fiat='KRW')\n",
    "\n",
    "count = 1032\n",
    "\n",
    "close_data = {}\n",
    "value_data = {}\n",
    "for ticker in tickers:\n",
    "    ohlcv = pyupbit.get_ohlcv(ticker=ticker, interval='day', count=count)\n",
    "\n",
    "    if ohlcv is not None and len(ohlcv) == count:\n",
    "        close_data[ticker] = ohlcv['close']\n",
    "        value_data[ticker] = ohlcv['value']\n",
    "close_data = pd.DataFrame(close_data)\n",
    "value_data = pd.DataFrame(value_data)\n",
    "\n",
    "returns = close_data.pct_change()\n",
    "returns.iloc[0, :] = 0."
   ]
  },
  {
   "cell_type": "code",
   "execution_count": 100,
   "metadata": {},
   "outputs": [
    {
     "name": "stdout",
     "output_type": "stream",
     "text": [
      "(1032, 71)\n",
      "(1032, 71)\n"
     ]
    }
   ],
   "source": [
    "print(close_data.shape)\n",
    "print(value_data.shape)"
   ]
  },
  {
   "cell_type": "code",
   "execution_count": 101,
   "metadata": {},
   "outputs": [],
   "source": [
    "# Data Processing\n",
    "window = 30\n",
    "eps = 1e-6\n",
    "\n",
    "indices = np.arange(close_data.shape[0])\n",
    "indices = indices[window-1:-1]"
   ]
  },
  {
   "cell_type": "code",
   "execution_count": 102,
   "metadata": {},
   "outputs": [
    {
     "data": {
      "text/plain": [
       "array([  29,   30,   31, ..., 1028, 1029, 1030])"
      ]
     },
     "execution_count": 102,
     "metadata": {},
     "output_type": "execute_result"
    }
   ],
   "source": [
    "indices"
   ]
  },
  {
   "cell_type": "code",
   "execution_count": 103,
   "metadata": {},
   "outputs": [],
   "source": [
    "np.save('train_data/picking_transformer/close_data.npy', close_data.values,\n",
    "        allow_pickle=True)\n",
    "np.save('train_data/picking_transformer/value_data.npy', value_data.values,\n",
    "        allow_pickle=True)\n",
    "np.save('train_data/picking_transformer/returns.npy', returns.values,\n",
    "        allow_pickle=True)"
   ]
  },
  {
   "cell_type": "code",
   "execution_count": 104,
   "metadata": {},
   "outputs": [],
   "source": [
    "from torch.utils.data import DataLoader\n",
    "from datasets.picking_transformer2_dataset import PickingTransformer2Dataset"
   ]
  },
  {
   "cell_type": "code",
   "execution_count": 105,
   "metadata": {},
   "outputs": [],
   "source": [
    "indices = np.arange(close_data.shape[0])\n",
    "indices = indices[window-1:-1]\n",
    "dataset = PickingTransformer2Dataset(\n",
    "    close_data.values, value_data.values, returns.values,\n",
    "    indices, window=30)"
   ]
  },
  {
   "cell_type": "code",
   "execution_count": 106,
   "metadata": {},
   "outputs": [],
   "source": [
    "dataloader = DataLoader(dataset, batch_size=1, shuffle=False)"
   ]
  },
  {
   "cell_type": "code",
   "execution_count": 107,
   "metadata": {},
   "outputs": [
    {
     "data": {
      "text/plain": [
       "<All keys matched successfully>"
      ]
     },
     "execution_count": 107,
     "metadata": {},
     "output_type": "execute_result"
    }
   ],
   "source": [
    "model = PickingTransformer2()\n",
    "model.eval()\n",
    "model.load_state_dict(\n",
    "    torch.load('trained/picking_transformer2/picking_transformer2_best.pt',\n",
    "    map_location='cpu'))"
   ]
  },
  {
   "cell_type": "code",
   "execution_count": 108,
   "metadata": {},
   "outputs": [
    {
     "data": {
      "text/plain": [
       "1002"
      ]
     },
     "execution_count": 108,
     "metadata": {},
     "output_type": "execute_result"
    }
   ],
   "source": [
    "len(dataloader)"
   ]
  },
  {
   "cell_type": "code",
   "execution_count": 109,
   "metadata": {},
   "outputs": [
    {
     "data": {
      "text/plain": [
       "29"
      ]
     },
     "execution_count": 109,
     "metadata": {},
     "output_type": "execute_result"
    }
   ],
   "source": [
    "indices[0]"
   ]
  },
  {
   "cell_type": "code",
   "execution_count": 110,
   "metadata": {},
   "outputs": [
    {
     "data": {
      "text/plain": [
       "array([ 0.00097225,  0.02242437, -0.01147541,  0.01173021,  0.        ,\n",
       "        0.02791878, -0.02586207, -0.03735632, -0.00403226, -0.01464435,\n",
       "        0.01362398,  0.00371747,  0.        ,  0.00245098,  0.01284797,\n",
       "        0.02597403,  0.02307692,  0.01169591,  0.00325733,  0.00818331,\n",
       "        0.00429185,  0.0115304 ,  0.00275735,  0.00923077,  0.01112878,\n",
       "        0.        , -0.00813008,  0.00530973,  0.07317073,  0.0170068 ,\n",
       "       -0.00431034,  0.02366864,  0.00122764,  0.00823045,  0.00238095,\n",
       "        0.        ,  0.01619433,  0.00769231, -0.00416667,  0.03125   ,\n",
       "        0.00917431,  0.        ,  0.01183432,  0.01815981, -0.00913838,\n",
       "        0.00220897, -0.05150215,  0.04956268, -0.03030303, -0.01388889,\n",
       "       -0.01515152,  0.15277778, -0.00460829,  0.08421053,  0.0242915 ,\n",
       "        0.0249584 ,  0.01170569,  0.01875   ,  0.16216216,  0.02717391,\n",
       "       -0.00684932,  0.01724138,  0.        ,  0.03333333,  0.08474576,\n",
       "        0.0093633 ,  0.03539823,  0.00719424,  0.01272727,  0.06346154,\n",
       "        0.        ])"
      ]
     },
     "execution_count": 110,
     "metadata": {},
     "output_type": "execute_result"
    }
   ],
   "source": [
    "returns.values[indices[0]]"
   ]
  },
  {
   "cell_type": "code",
   "execution_count": 143,
   "metadata": {},
   "outputs": [],
   "source": [
    "port_returns = []\n",
    "weights_list = []\n",
    "num = close_data.shape[1]\n",
    "for i, (obs_dict, max_weights_dict, rets_dict) in enumerate(dataloader):\n",
    "    obs = obs_dict[num]\n",
    "    max_weights = max_weights_dict[num]\n",
    "    rets = returns.values[indices[i] + 1]\n",
    "    with torch.no_grad():\n",
    "        weights, _ = model(obs, softmax=True)\n",
    "\n",
    "    widx = weights.argmax()\n",
    "    if widx == 0:\n",
    "        pret = 0.\n",
    "    else:\n",
    "        pret = rets[widx - 1]\n",
    "\n",
    "    port_returns.append(pret)\n",
    "    weights_list.append(weights.numpy())\n",
    "port_returns = pd.DataFrame(port_returns)\n",
    "weights_list = pd.DataFrame(np.concatenate(weights_list, axis=0))"
   ]
  },
  {
   "cell_type": "code",
   "execution_count": 144,
   "metadata": {},
   "outputs": [
    {
     "data": {
      "text/plain": [
       "27"
      ]
     },
     "execution_count": 144,
     "metadata": {},
     "output_type": "execute_result"
    }
   ],
   "source": [
    "weights[0].argmax().item()"
   ]
  },
  {
   "cell_type": "code",
   "execution_count": 145,
   "metadata": {},
   "outputs": [
    {
     "name": "stdout",
     "output_type": "stream",
     "text": [
      "torch.Size([1, 71, 3, 30])\n",
      "tensor([[[[0.0000, 0.2217, 0.2124,  ..., 0.6966, 0.6816, 0.7344],\n",
      "          [0.1822, 0.7261, 0.1003,  ..., 0.7124, 0.2055, 0.1198],\n",
      "          [1.0000, 1.0000, 0.2630,  ..., 0.5507, 0.5450, 1.0000]],\n",
      "\n",
      "         [[0.0000, 0.3398, 0.3689,  ..., 0.6165, 0.5227, 0.6133],\n",
      "          [0.2630, 1.0000, 0.1609,  ..., 0.3744, 0.2594, 0.0000],\n",
      "          [0.3963, 0.4636, 0.0966,  ..., 0.1183, 0.1996, 0.1698]],\n",
      "\n",
      "         [[0.1232, 0.1957, 0.2264,  ..., 0.9312, 1.0000, 0.9348],\n",
      "          [0.0162, 0.0923, 0.0323,  ..., 1.0000, 0.4739, 0.0251],\n",
      "          [0.0263, 0.0287, 0.0093,  ..., 0.1708, 0.1790, 0.0415]],\n",
      "\n",
      "         ...,\n",
      "\n",
      "         [[0.0000, 0.1215, 0.1729,  ..., 0.7150, 0.7850, 0.7757],\n",
      "          [0.0093, 0.0201, 0.0212,  ..., 0.0839, 0.0460, 0.0000],\n",
      "          [0.0424, 0.0245, 0.0214,  ..., 0.0557, 0.0678, 0.0244]],\n",
      "\n",
      "         [[0.0395, 0.1711, 0.2368,  ..., 0.7500, 0.7632, 0.7895],\n",
      "          [0.0125, 0.0450, 0.4043,  ..., 0.1211, 0.0945, 0.0120],\n",
      "          [0.0142, 0.0074, 0.0657,  ..., 0.0158, 0.0241, 0.0194]],\n",
      "\n",
      "         [[0.0000, 0.0696, 0.1266,  ..., 0.7975, 0.8291, 0.8418],\n",
      "          [0.1825, 0.1284, 0.2680,  ..., 0.0917, 0.0440, 0.0000],\n",
      "          [0.1063, 0.0271, 0.0480,  ..., 0.0134, 0.0121, 0.0111]]]])\n"
     ]
    }
   ],
   "source": [
    "print(obs.shape)\n",
    "print(obs)"
   ]
  },
  {
   "cell_type": "code",
   "execution_count": 146,
   "metadata": {},
   "outputs": [
    {
     "data": {
      "text/html": [
       "<div>\n",
       "<style scoped>\n",
       "    .dataframe tbody tr th:only-of-type {\n",
       "        vertical-align: middle;\n",
       "    }\n",
       "\n",
       "    .dataframe tbody tr th {\n",
       "        vertical-align: top;\n",
       "    }\n",
       "\n",
       "    .dataframe thead th {\n",
       "        text-align: right;\n",
       "    }\n",
       "</style>\n",
       "<table border=\"1\" class=\"dataframe\">\n",
       "  <thead>\n",
       "    <tr style=\"text-align: right;\">\n",
       "      <th></th>\n",
       "      <th>0</th>\n",
       "      <th>1</th>\n",
       "      <th>2</th>\n",
       "      <th>3</th>\n",
       "      <th>4</th>\n",
       "      <th>5</th>\n",
       "      <th>6</th>\n",
       "      <th>7</th>\n",
       "      <th>8</th>\n",
       "      <th>9</th>\n",
       "      <th>...</th>\n",
       "      <th>62</th>\n",
       "      <th>63</th>\n",
       "      <th>64</th>\n",
       "      <th>65</th>\n",
       "      <th>66</th>\n",
       "      <th>67</th>\n",
       "      <th>68</th>\n",
       "      <th>69</th>\n",
       "      <th>70</th>\n",
       "      <th>71</th>\n",
       "    </tr>\n",
       "  </thead>\n",
       "  <tbody>\n",
       "    <tr>\n",
       "      <th>0</th>\n",
       "      <td>0.011345</td>\n",
       "      <td>0.005638</td>\n",
       "      <td>0.005003</td>\n",
       "      <td>0.046101</td>\n",
       "      <td>0.003415</td>\n",
       "      <td>0.003942</td>\n",
       "      <td>0.041005</td>\n",
       "      <td>0.149370</td>\n",
       "      <td>0.004530</td>\n",
       "      <td>0.002905</td>\n",
       "      <td>...</td>\n",
       "      <td>0.003788</td>\n",
       "      <td>0.003022</td>\n",
       "      <td>0.003050</td>\n",
       "      <td>0.019136</td>\n",
       "      <td>0.016885</td>\n",
       "      <td>0.034090</td>\n",
       "      <td>0.002959</td>\n",
       "      <td>0.005616</td>\n",
       "      <td>0.021711</td>\n",
       "      <td>0.004034</td>\n",
       "    </tr>\n",
       "    <tr>\n",
       "      <th>1</th>\n",
       "      <td>0.008475</td>\n",
       "      <td>0.004923</td>\n",
       "      <td>0.005812</td>\n",
       "      <td>0.003503</td>\n",
       "      <td>0.003023</td>\n",
       "      <td>0.003382</td>\n",
       "      <td>0.003052</td>\n",
       "      <td>0.140394</td>\n",
       "      <td>0.006011</td>\n",
       "      <td>0.003836</td>\n",
       "      <td>...</td>\n",
       "      <td>0.276150</td>\n",
       "      <td>0.002639</td>\n",
       "      <td>0.002205</td>\n",
       "      <td>0.032188</td>\n",
       "      <td>0.010340</td>\n",
       "      <td>0.007445</td>\n",
       "      <td>0.002417</td>\n",
       "      <td>0.002982</td>\n",
       "      <td>0.011977</td>\n",
       "      <td>0.002133</td>\n",
       "    </tr>\n",
       "    <tr>\n",
       "      <th>2</th>\n",
       "      <td>0.012490</td>\n",
       "      <td>0.007059</td>\n",
       "      <td>0.006712</td>\n",
       "      <td>0.004938</td>\n",
       "      <td>0.004861</td>\n",
       "      <td>0.005768</td>\n",
       "      <td>0.005618</td>\n",
       "      <td>0.070981</td>\n",
       "      <td>0.007390</td>\n",
       "      <td>0.004175</td>\n",
       "      <td>...</td>\n",
       "      <td>0.041623</td>\n",
       "      <td>0.004340</td>\n",
       "      <td>0.008057</td>\n",
       "      <td>0.094355</td>\n",
       "      <td>0.003963</td>\n",
       "      <td>0.010494</td>\n",
       "      <td>0.003465</td>\n",
       "      <td>0.003834</td>\n",
       "      <td>0.003771</td>\n",
       "      <td>0.003222</td>\n",
       "    </tr>\n",
       "    <tr>\n",
       "      <th>3</th>\n",
       "      <td>0.014395</td>\n",
       "      <td>0.008482</td>\n",
       "      <td>0.006184</td>\n",
       "      <td>0.004738</td>\n",
       "      <td>0.005299</td>\n",
       "      <td>0.004526</td>\n",
       "      <td>0.004269</td>\n",
       "      <td>0.068526</td>\n",
       "      <td>0.005106</td>\n",
       "      <td>0.003936</td>\n",
       "      <td>...</td>\n",
       "      <td>0.058196</td>\n",
       "      <td>0.006753</td>\n",
       "      <td>0.004448</td>\n",
       "      <td>0.073906</td>\n",
       "      <td>0.004389</td>\n",
       "      <td>0.005862</td>\n",
       "      <td>0.004860</td>\n",
       "      <td>0.014361</td>\n",
       "      <td>0.004794</td>\n",
       "      <td>0.004188</td>\n",
       "    </tr>\n",
       "    <tr>\n",
       "      <th>4</th>\n",
       "      <td>0.009658</td>\n",
       "      <td>0.005498</td>\n",
       "      <td>0.010157</td>\n",
       "      <td>0.004890</td>\n",
       "      <td>0.012658</td>\n",
       "      <td>0.005296</td>\n",
       "      <td>0.006526</td>\n",
       "      <td>0.028335</td>\n",
       "      <td>0.004997</td>\n",
       "      <td>0.009814</td>\n",
       "      <td>...</td>\n",
       "      <td>0.027980</td>\n",
       "      <td>0.005773</td>\n",
       "      <td>0.005808</td>\n",
       "      <td>0.035818</td>\n",
       "      <td>0.009166</td>\n",
       "      <td>0.009587</td>\n",
       "      <td>0.016999</td>\n",
       "      <td>0.019914</td>\n",
       "      <td>0.017031</td>\n",
       "      <td>0.003774</td>\n",
       "    </tr>\n",
       "    <tr>\n",
       "      <th>...</th>\n",
       "      <td>...</td>\n",
       "      <td>...</td>\n",
       "      <td>...</td>\n",
       "      <td>...</td>\n",
       "      <td>...</td>\n",
       "      <td>...</td>\n",
       "      <td>...</td>\n",
       "      <td>...</td>\n",
       "      <td>...</td>\n",
       "      <td>...</td>\n",
       "      <td>...</td>\n",
       "      <td>...</td>\n",
       "      <td>...</td>\n",
       "      <td>...</td>\n",
       "      <td>...</td>\n",
       "      <td>...</td>\n",
       "      <td>...</td>\n",
       "      <td>...</td>\n",
       "      <td>...</td>\n",
       "      <td>...</td>\n",
       "      <td>...</td>\n",
       "    </tr>\n",
       "    <tr>\n",
       "      <th>997</th>\n",
       "      <td>0.011810</td>\n",
       "      <td>0.010122</td>\n",
       "      <td>0.009794</td>\n",
       "      <td>0.009693</td>\n",
       "      <td>0.015434</td>\n",
       "      <td>0.005944</td>\n",
       "      <td>0.012563</td>\n",
       "      <td>0.019297</td>\n",
       "      <td>0.013285</td>\n",
       "      <td>0.005297</td>\n",
       "      <td>...</td>\n",
       "      <td>0.014925</td>\n",
       "      <td>0.013573</td>\n",
       "      <td>0.007936</td>\n",
       "      <td>0.046990</td>\n",
       "      <td>0.010061</td>\n",
       "      <td>0.013076</td>\n",
       "      <td>0.012895</td>\n",
       "      <td>0.005264</td>\n",
       "      <td>0.006137</td>\n",
       "      <td>0.005037</td>\n",
       "    </tr>\n",
       "    <tr>\n",
       "      <th>998</th>\n",
       "      <td>0.006494</td>\n",
       "      <td>0.003671</td>\n",
       "      <td>0.004214</td>\n",
       "      <td>0.017890</td>\n",
       "      <td>0.005677</td>\n",
       "      <td>0.002926</td>\n",
       "      <td>0.002883</td>\n",
       "      <td>0.004674</td>\n",
       "      <td>0.003644</td>\n",
       "      <td>0.004716</td>\n",
       "      <td>...</td>\n",
       "      <td>0.010766</td>\n",
       "      <td>0.007542</td>\n",
       "      <td>0.010036</td>\n",
       "      <td>0.012707</td>\n",
       "      <td>0.009957</td>\n",
       "      <td>0.014579</td>\n",
       "      <td>0.010346</td>\n",
       "      <td>0.015395</td>\n",
       "      <td>0.014126</td>\n",
       "      <td>0.003682</td>\n",
       "    </tr>\n",
       "    <tr>\n",
       "      <th>999</th>\n",
       "      <td>0.003722</td>\n",
       "      <td>0.002549</td>\n",
       "      <td>0.002077</td>\n",
       "      <td>0.004423</td>\n",
       "      <td>0.001404</td>\n",
       "      <td>0.001302</td>\n",
       "      <td>0.001460</td>\n",
       "      <td>0.001684</td>\n",
       "      <td>0.001685</td>\n",
       "      <td>0.007622</td>\n",
       "      <td>...</td>\n",
       "      <td>0.000810</td>\n",
       "      <td>0.001418</td>\n",
       "      <td>0.001156</td>\n",
       "      <td>0.003595</td>\n",
       "      <td>0.002108</td>\n",
       "      <td>0.000905</td>\n",
       "      <td>0.001406</td>\n",
       "      <td>0.001400</td>\n",
       "      <td>0.001376</td>\n",
       "      <td>0.000959</td>\n",
       "    </tr>\n",
       "    <tr>\n",
       "      <th>1000</th>\n",
       "      <td>0.019410</td>\n",
       "      <td>0.013121</td>\n",
       "      <td>0.009513</td>\n",
       "      <td>0.036765</td>\n",
       "      <td>0.020362</td>\n",
       "      <td>0.008800</td>\n",
       "      <td>0.008927</td>\n",
       "      <td>0.027798</td>\n",
       "      <td>0.010267</td>\n",
       "      <td>0.006330</td>\n",
       "      <td>...</td>\n",
       "      <td>0.007906</td>\n",
       "      <td>0.005738</td>\n",
       "      <td>0.004071</td>\n",
       "      <td>0.003777</td>\n",
       "      <td>0.004678</td>\n",
       "      <td>0.004289</td>\n",
       "      <td>0.004101</td>\n",
       "      <td>0.005422</td>\n",
       "      <td>0.009308</td>\n",
       "      <td>0.023233</td>\n",
       "    </tr>\n",
       "    <tr>\n",
       "      <th>1001</th>\n",
       "      <td>0.021894</td>\n",
       "      <td>0.011284</td>\n",
       "      <td>0.008003</td>\n",
       "      <td>0.045080</td>\n",
       "      <td>0.007836</td>\n",
       "      <td>0.006457</td>\n",
       "      <td>0.006005</td>\n",
       "      <td>0.008761</td>\n",
       "      <td>0.010852</td>\n",
       "      <td>0.005320</td>\n",
       "      <td>...</td>\n",
       "      <td>0.005351</td>\n",
       "      <td>0.004832</td>\n",
       "      <td>0.006078</td>\n",
       "      <td>0.007290</td>\n",
       "      <td>0.005237</td>\n",
       "      <td>0.005197</td>\n",
       "      <td>0.005044</td>\n",
       "      <td>0.005649</td>\n",
       "      <td>0.004172</td>\n",
       "      <td>0.005836</td>\n",
       "    </tr>\n",
       "  </tbody>\n",
       "</table>\n",
       "<p>1002 rows × 72 columns</p>\n",
       "</div>"
      ],
      "text/plain": [
       "            0         1         2         3         4         5         6   \\\n",
       "0     0.011345  0.005638  0.005003  0.046101  0.003415  0.003942  0.041005   \n",
       "1     0.008475  0.004923  0.005812  0.003503  0.003023  0.003382  0.003052   \n",
       "2     0.012490  0.007059  0.006712  0.004938  0.004861  0.005768  0.005618   \n",
       "3     0.014395  0.008482  0.006184  0.004738  0.005299  0.004526  0.004269   \n",
       "4     0.009658  0.005498  0.010157  0.004890  0.012658  0.005296  0.006526   \n",
       "...        ...       ...       ...       ...       ...       ...       ...   \n",
       "997   0.011810  0.010122  0.009794  0.009693  0.015434  0.005944  0.012563   \n",
       "998   0.006494  0.003671  0.004214  0.017890  0.005677  0.002926  0.002883   \n",
       "999   0.003722  0.002549  0.002077  0.004423  0.001404  0.001302  0.001460   \n",
       "1000  0.019410  0.013121  0.009513  0.036765  0.020362  0.008800  0.008927   \n",
       "1001  0.021894  0.011284  0.008003  0.045080  0.007836  0.006457  0.006005   \n",
       "\n",
       "            7         8         9   ...        62        63        64  \\\n",
       "0     0.149370  0.004530  0.002905  ...  0.003788  0.003022  0.003050   \n",
       "1     0.140394  0.006011  0.003836  ...  0.276150  0.002639  0.002205   \n",
       "2     0.070981  0.007390  0.004175  ...  0.041623  0.004340  0.008057   \n",
       "3     0.068526  0.005106  0.003936  ...  0.058196  0.006753  0.004448   \n",
       "4     0.028335  0.004997  0.009814  ...  0.027980  0.005773  0.005808   \n",
       "...        ...       ...       ...  ...       ...       ...       ...   \n",
       "997   0.019297  0.013285  0.005297  ...  0.014925  0.013573  0.007936   \n",
       "998   0.004674  0.003644  0.004716  ...  0.010766  0.007542  0.010036   \n",
       "999   0.001684  0.001685  0.007622  ...  0.000810  0.001418  0.001156   \n",
       "1000  0.027798  0.010267  0.006330  ...  0.007906  0.005738  0.004071   \n",
       "1001  0.008761  0.010852  0.005320  ...  0.005351  0.004832  0.006078   \n",
       "\n",
       "            65        66        67        68        69        70        71  \n",
       "0     0.019136  0.016885  0.034090  0.002959  0.005616  0.021711  0.004034  \n",
       "1     0.032188  0.010340  0.007445  0.002417  0.002982  0.011977  0.002133  \n",
       "2     0.094355  0.003963  0.010494  0.003465  0.003834  0.003771  0.003222  \n",
       "3     0.073906  0.004389  0.005862  0.004860  0.014361  0.004794  0.004188  \n",
       "4     0.035818  0.009166  0.009587  0.016999  0.019914  0.017031  0.003774  \n",
       "...        ...       ...       ...       ...       ...       ...       ...  \n",
       "997   0.046990  0.010061  0.013076  0.012895  0.005264  0.006137  0.005037  \n",
       "998   0.012707  0.009957  0.014579  0.010346  0.015395  0.014126  0.003682  \n",
       "999   0.003595  0.002108  0.000905  0.001406  0.001400  0.001376  0.000959  \n",
       "1000  0.003777  0.004678  0.004289  0.004101  0.005422  0.009308  0.023233  \n",
       "1001  0.007290  0.005237  0.005197  0.005044  0.005649  0.004172  0.005836  \n",
       "\n",
       "[1002 rows x 72 columns]"
      ]
     },
     "execution_count": 146,
     "metadata": {},
     "output_type": "execute_result"
    }
   ],
   "source": [
    "weights_list"
   ]
  },
  {
   "cell_type": "code",
   "execution_count": 147,
   "metadata": {},
   "outputs": [
    {
     "data": {
      "text/plain": [
       "tensor([0.])"
      ]
     },
     "execution_count": 147,
     "metadata": {},
     "output_type": "execute_result"
    }
   ],
   "source": [
    "torch.FloatTensor([0.])"
   ]
  },
  {
   "cell_type": "code",
   "execution_count": 148,
   "metadata": {},
   "outputs": [
    {
     "data": {
      "text/plain": [
       "tensor([[0.0219, 0.0113, 0.0080, 0.0451, 0.0078, 0.0065, 0.0060, 0.0088, 0.0109,\n",
       "         0.0053, 0.0056, 0.0063, 0.0066, 0.0054, 0.0050, 0.0046, 0.0044, 0.0050,\n",
       "         0.0048, 0.0532, 0.0051, 0.0057, 0.0043, 0.0042, 0.0041, 0.0048, 0.0058,\n",
       "         0.2213, 0.0044, 0.0046, 0.0047, 0.0043, 0.0049, 0.0048, 0.0077, 0.0049,\n",
       "         0.0052, 0.0049, 0.0053, 0.0044, 0.0047, 0.0047, 0.1001, 0.0050, 0.0144,\n",
       "         0.0059, 0.0042, 0.0051, 0.0046, 0.0063, 0.0055, 0.0625, 0.0058, 0.0062,\n",
       "         0.0400, 0.0050, 0.0048, 0.0057, 0.0232, 0.0055, 0.0151, 0.0633, 0.0054,\n",
       "         0.0048, 0.0061, 0.0073, 0.0052, 0.0052, 0.0050, 0.0056, 0.0042, 0.0058]])"
      ]
     },
     "execution_count": 148,
     "metadata": {},
     "output_type": "execute_result"
    }
   ],
   "source": [
    "weights"
   ]
  },
  {
   "cell_type": "code",
   "execution_count": 149,
   "metadata": {},
   "outputs": [
    {
     "data": {
      "text/plain": [
       "tensor(0.2213)"
      ]
     },
     "execution_count": 149,
     "metadata": {},
     "output_type": "execute_result"
    }
   ],
   "source": [
    "weights.max()"
   ]
  },
  {
   "cell_type": "code",
   "execution_count": 150,
   "metadata": {},
   "outputs": [
    {
     "data": {
      "text/plain": [
       "'KRW-BTC'"
      ]
     },
     "execution_count": 150,
     "metadata": {},
     "output_type": "execute_result"
    }
   ],
   "source": [
    "close_data.columns[0]"
   ]
  },
  {
   "cell_type": "code",
   "execution_count": 151,
   "metadata": {},
   "outputs": [
    {
     "data": {
      "text/html": [
       "<div>\n",
       "<style scoped>\n",
       "    .dataframe tbody tr th:only-of-type {\n",
       "        vertical-align: middle;\n",
       "    }\n",
       "\n",
       "    .dataframe tbody tr th {\n",
       "        vertical-align: top;\n",
       "    }\n",
       "\n",
       "    .dataframe thead th {\n",
       "        text-align: right;\n",
       "    }\n",
       "</style>\n",
       "<table border=\"1\" class=\"dataframe\">\n",
       "  <thead>\n",
       "    <tr style=\"text-align: right;\">\n",
       "      <th></th>\n",
       "      <th>0</th>\n",
       "    </tr>\n",
       "  </thead>\n",
       "  <tbody>\n",
       "    <tr>\n",
       "      <th>0</th>\n",
       "      <td>0.244131</td>\n",
       "    </tr>\n",
       "    <tr>\n",
       "      <th>1</th>\n",
       "      <td>0.978082</td>\n",
       "    </tr>\n",
       "    <tr>\n",
       "      <th>2</th>\n",
       "      <td>-0.008086</td>\n",
       "    </tr>\n",
       "    <tr>\n",
       "      <th>3</th>\n",
       "      <td>0.281369</td>\n",
       "    </tr>\n",
       "    <tr>\n",
       "      <th>4</th>\n",
       "      <td>-0.005525</td>\n",
       "    </tr>\n",
       "    <tr>\n",
       "      <th>...</th>\n",
       "      <td>...</td>\n",
       "    </tr>\n",
       "    <tr>\n",
       "      <th>997</th>\n",
       "      <td>0.012658</td>\n",
       "    </tr>\n",
       "    <tr>\n",
       "      <th>998</th>\n",
       "      <td>0.442671</td>\n",
       "    </tr>\n",
       "    <tr>\n",
       "      <th>999</th>\n",
       "      <td>0.139009</td>\n",
       "    </tr>\n",
       "    <tr>\n",
       "      <th>1000</th>\n",
       "      <td>0.159274</td>\n",
       "    </tr>\n",
       "    <tr>\n",
       "      <th>1001</th>\n",
       "      <td>0.018797</td>\n",
       "    </tr>\n",
       "  </tbody>\n",
       "</table>\n",
       "<p>1002 rows × 1 columns</p>\n",
       "</div>"
      ],
      "text/plain": [
       "             0\n",
       "0     0.244131\n",
       "1     0.978082\n",
       "2    -0.008086\n",
       "3     0.281369\n",
       "4    -0.005525\n",
       "...        ...\n",
       "997   0.012658\n",
       "998   0.442671\n",
       "999   0.139009\n",
       "1000  0.159274\n",
       "1001  0.018797\n",
       "\n",
       "[1002 rows x 1 columns]"
      ]
     },
     "execution_count": 151,
     "metadata": {},
     "output_type": "execute_result"
    }
   ],
   "source": [
    "port_returns"
   ]
  },
  {
   "cell_type": "code",
   "execution_count": 152,
   "metadata": {},
   "outputs": [
    {
     "data": {
      "text/html": [
       "<div>\n",
       "<style scoped>\n",
       "    .dataframe tbody tr th:only-of-type {\n",
       "        vertical-align: middle;\n",
       "    }\n",
       "\n",
       "    .dataframe tbody tr th {\n",
       "        vertical-align: top;\n",
       "    }\n",
       "\n",
       "    .dataframe thead th {\n",
       "        text-align: right;\n",
       "    }\n",
       "</style>\n",
       "<table border=\"1\" class=\"dataframe\">\n",
       "  <thead>\n",
       "    <tr style=\"text-align: right;\">\n",
       "      <th></th>\n",
       "      <th>0</th>\n",
       "    </tr>\n",
       "  </thead>\n",
       "  <tbody>\n",
       "    <tr>\n",
       "      <th>count</th>\n",
       "      <td>1002.000000</td>\n",
       "    </tr>\n",
       "    <tr>\n",
       "      <th>mean</th>\n",
       "      <td>0.061580</td>\n",
       "    </tr>\n",
       "    <tr>\n",
       "      <th>std</th>\n",
       "      <td>0.258805</td>\n",
       "    </tr>\n",
       "    <tr>\n",
       "      <th>min</th>\n",
       "      <td>-0.484642</td>\n",
       "    </tr>\n",
       "    <tr>\n",
       "      <th>25%</th>\n",
       "      <td>-0.027714</td>\n",
       "    </tr>\n",
       "    <tr>\n",
       "      <th>50%</th>\n",
       "      <td>0.017712</td>\n",
       "    </tr>\n",
       "    <tr>\n",
       "      <th>75%</th>\n",
       "      <td>0.093496</td>\n",
       "    </tr>\n",
       "    <tr>\n",
       "      <th>max</th>\n",
       "      <td>5.878788</td>\n",
       "    </tr>\n",
       "  </tbody>\n",
       "</table>\n",
       "</div>"
      ],
      "text/plain": [
       "                 0\n",
       "count  1002.000000\n",
       "mean      0.061580\n",
       "std       0.258805\n",
       "min      -0.484642\n",
       "25%      -0.027714\n",
       "50%       0.017712\n",
       "75%       0.093496\n",
       "max       5.878788"
      ]
     },
     "execution_count": 152,
     "metadata": {},
     "output_type": "execute_result"
    }
   ],
   "source": [
    "port_returns.describe()"
   ]
  },
  {
   "cell_type": "code",
   "execution_count": 153,
   "metadata": {},
   "outputs": [
    {
     "data": {
      "text/plain": [
       "<AxesSubplot:>"
      ]
     },
     "execution_count": 153,
     "metadata": {},
     "output_type": "execute_result"
    },
    {
     "data": {
      "image/png": "[encoded data removed]",
      "text/plain": [
       "<Figure size 2000x1000 with 1 Axes>"
      ]
     },
     "metadata": {},
     "output_type": "display_data"
    }
   ],
   "source": [
    "port_returns.plot(figsize=(20, 10))"
   ]
  },
  {
   "cell_type": "code",
   "execution_count": 154,
   "metadata": {},
   "outputs": [
    {
     "data": {
      "text/plain": [
       "array([[<AxesSubplot:title={'center':'0'}>]], dtype=object)"
      ]
     },
     "execution_count": 154,
     "metadata": {},
     "output_type": "execute_result"
    },
    {
     "data": {
      "image/png": "[encoded data removed]",
      "text/plain": [
       "<Figure size 640x480 with 1 Axes>"
      ]
     },
     "metadata": {},
     "output_type": "display_data"
    }
   ],
   "source": [
    "port_returns.hist()"
   ]
  },
  {
   "cell_type": "code",
   "execution_count": 155,
   "metadata": {},
   "outputs": [
    {
     "data": {
      "text/plain": [
       "<AxesSubplot:>"
      ]
     },
     "execution_count": 155,
     "metadata": {},
     "output_type": "execute_result"
    },
    {
     "data": {
      "image/png": "[encoded data removed]",
      "text/plain": [
       "<Figure size 2000x1000 with 1 Axes>"
      ]
     },
     "metadata": {},
     "output_type": "display_data"
    }
   ],
   "source": [
    "((1 + port_returns).cumprod() - 1).plot(figsize=(20, 10))"
   ]
  },
  {
   "cell_type": "code",
   "execution_count": 156,
   "metadata": {},
   "outputs": [
    {
     "data": {
      "text/plain": [
       "15"
      ]
     },
     "execution_count": 156,
     "metadata": {},
     "output_type": "execute_result"
    }
   ],
   "source": [
    "np.random.randint(5, 20)"
   ]
  },
  {
   "cell_type": "code",
   "execution_count": 157,
   "metadata": {},
   "outputs": [],
   "source": [
    "arr = np.random.randn(20, 20)"
   ]
  },
  {
   "cell_type": "code",
   "execution_count": 158,
   "metadata": {},
   "outputs": [
    {
     "data": {
      "text/html": [
       "<div>\n",
       "<style scoped>\n",
       "    .dataframe tbody tr th:only-of-type {\n",
       "        vertical-align: middle;\n",
       "    }\n",
       "\n",
       "    .dataframe tbody tr th {\n",
       "        vertical-align: top;\n",
       "    }\n",
       "\n",
       "    .dataframe thead th {\n",
       "        text-align: right;\n",
       "    }\n",
       "</style>\n",
       "<table border=\"1\" class=\"dataframe\">\n",
       "  <thead>\n",
       "    <tr style=\"text-align: right;\">\n",
       "      <th></th>\n",
       "      <th>0</th>\n",
       "    </tr>\n",
       "  </thead>\n",
       "  <tbody>\n",
       "    <tr>\n",
       "      <th>0</th>\n",
       "      <td>2.441315e-01</td>\n",
       "    </tr>\n",
       "    <tr>\n",
       "      <th>1</th>\n",
       "      <td>1.460994e+00</td>\n",
       "    </tr>\n",
       "    <tr>\n",
       "      <th>2</th>\n",
       "      <td>1.441094e+00</td>\n",
       "    </tr>\n",
       "    <tr>\n",
       "      <th>3</th>\n",
       "      <td>2.127942e+00</td>\n",
       "    </tr>\n",
       "    <tr>\n",
       "      <th>4</th>\n",
       "      <td>2.110660e+00</td>\n",
       "    </tr>\n",
       "    <tr>\n",
       "      <th>...</th>\n",
       "      <td>...</td>\n",
       "    </tr>\n",
       "    <tr>\n",
       "      <th>997</th>\n",
       "      <td>2.556450e+19</td>\n",
       "    </tr>\n",
       "    <tr>\n",
       "      <th>998</th>\n",
       "      <td>3.688116e+19</td>\n",
       "    </tr>\n",
       "    <tr>\n",
       "      <th>999</th>\n",
       "      <td>4.200795e+19</td>\n",
       "    </tr>\n",
       "    <tr>\n",
       "      <th>1000</th>\n",
       "      <td>4.869874e+19</td>\n",
       "    </tr>\n",
       "    <tr>\n",
       "      <th>1001</th>\n",
       "      <td>4.961413e+19</td>\n",
       "    </tr>\n",
       "  </tbody>\n",
       "</table>\n",
       "<p>1002 rows × 1 columns</p>\n",
       "</div>"
      ],
      "text/plain": [
       "                 0\n",
       "0     2.441315e-01\n",
       "1     1.460994e+00\n",
       "2     1.441094e+00\n",
       "3     2.127942e+00\n",
       "4     2.110660e+00\n",
       "...            ...\n",
       "997   2.556450e+19\n",
       "998   3.688116e+19\n",
       "999   4.200795e+19\n",
       "1000  4.869874e+19\n",
       "1001  4.961413e+19\n",
       "\n",
       "[1002 rows x 1 columns]"
      ]
     },
     "execution_count": 158,
     "metadata": {},
     "output_type": "execute_result"
    }
   ],
   "source": [
    "(1 + port_returns).cumprod() - 1"
   ]
  },
  {
   "cell_type": "code",
   "execution_count": 159,
   "metadata": {},
   "outputs": [
    {
     "data": {
      "text/html": [
       "<div>\n",
       "<style scoped>\n",
       "    .dataframe tbody tr th:only-of-type {\n",
       "        vertical-align: middle;\n",
       "    }\n",
       "\n",
       "    .dataframe tbody tr th {\n",
       "        vertical-align: top;\n",
       "    }\n",
       "\n",
       "    .dataframe thead th {\n",
       "        text-align: right;\n",
       "    }\n",
       "</style>\n",
       "<table border=\"1\" class=\"dataframe\">\n",
       "  <thead>\n",
       "    <tr style=\"text-align: right;\">\n",
       "      <th></th>\n",
       "      <th>0</th>\n",
       "    </tr>\n",
       "  </thead>\n",
       "  <tbody>\n",
       "    <tr>\n",
       "      <th>982</th>\n",
       "      <td>-0.047817</td>\n",
       "    </tr>\n",
       "    <tr>\n",
       "      <th>983</th>\n",
       "      <td>0.014045</td>\n",
       "    </tr>\n",
       "    <tr>\n",
       "      <th>984</th>\n",
       "      <td>-0.002469</td>\n",
       "    </tr>\n",
       "    <tr>\n",
       "      <th>985</th>\n",
       "      <td>0.000691</td>\n",
       "    </tr>\n",
       "    <tr>\n",
       "      <th>986</th>\n",
       "      <td>0.002725</td>\n",
       "    </tr>\n",
       "    <tr>\n",
       "      <th>987</th>\n",
       "      <td>-0.005714</td>\n",
       "    </tr>\n",
       "    <tr>\n",
       "      <th>988</th>\n",
       "      <td>0.017647</td>\n",
       "    </tr>\n",
       "    <tr>\n",
       "      <th>989</th>\n",
       "      <td>0.011299</td>\n",
       "    </tr>\n",
       "    <tr>\n",
       "      <th>990</th>\n",
       "      <td>0.020797</td>\n",
       "    </tr>\n",
       "    <tr>\n",
       "      <th>991</th>\n",
       "      <td>0.099109</td>\n",
       "    </tr>\n",
       "    <tr>\n",
       "      <th>992</th>\n",
       "      <td>0.630890</td>\n",
       "    </tr>\n",
       "    <tr>\n",
       "      <th>993</th>\n",
       "      <td>-0.016481</td>\n",
       "    </tr>\n",
       "    <tr>\n",
       "      <th>994</th>\n",
       "      <td>-0.038462</td>\n",
       "    </tr>\n",
       "    <tr>\n",
       "      <th>995</th>\n",
       "      <td>0.028302</td>\n",
       "    </tr>\n",
       "    <tr>\n",
       "      <th>996</th>\n",
       "      <td>-0.063694</td>\n",
       "    </tr>\n",
       "    <tr>\n",
       "      <th>997</th>\n",
       "      <td>0.012658</td>\n",
       "    </tr>\n",
       "    <tr>\n",
       "      <th>998</th>\n",
       "      <td>0.442671</td>\n",
       "    </tr>\n",
       "    <tr>\n",
       "      <th>999</th>\n",
       "      <td>0.139009</td>\n",
       "    </tr>\n",
       "    <tr>\n",
       "      <th>1000</th>\n",
       "      <td>0.159274</td>\n",
       "    </tr>\n",
       "    <tr>\n",
       "      <th>1001</th>\n",
       "      <td>0.018797</td>\n",
       "    </tr>\n",
       "  </tbody>\n",
       "</table>\n",
       "</div>"
      ],
      "text/plain": [
       "             0\n",
       "982  -0.047817\n",
       "983   0.014045\n",
       "984  -0.002469\n",
       "985   0.000691\n",
       "986   0.002725\n",
       "987  -0.005714\n",
       "988   0.017647\n",
       "989   0.011299\n",
       "990   0.020797\n",
       "991   0.099109\n",
       "992   0.630890\n",
       "993  -0.016481\n",
       "994  -0.038462\n",
       "995   0.028302\n",
       "996  -0.063694\n",
       "997   0.012658\n",
       "998   0.442671\n",
       "999   0.139009\n",
       "1000  0.159274\n",
       "1001  0.018797"
      ]
     },
     "execution_count": 159,
     "metadata": {},
     "output_type": "execute_result"
    }
   ],
   "source": [
    "port_returns.tail(20)"
   ]
  },
  {
   "cell_type": "code",
   "execution_count": 128,
   "metadata": {},
   "outputs": [],
   "source": [
    "from trading.upbit_trader import UpbitTrader"
   ]
  },
  {
   "cell_type": "code",
   "execution_count": 65,
   "metadata": {},
   "outputs": [],
   "source": [
    "ut = UpbitTrader()"
   ]
  },
  {
   "cell_type": "code",
   "execution_count": 34,
   "metadata": {},
   "outputs": [
    {
     "data": {
      "text/plain": [
       "{'bid_fee': '0.0005',\n",
       " 'ask_fee': '0.0005',\n",
       " 'maker_bid_fee': '0.0005',\n",
       " 'maker_ask_fee': '0.0005',\n",
       " 'market': {'id': 'KRW-BTC',\n",
       "  'name': 'BTC/KRW',\n",
       "  'order_types': ['limit'],\n",
       "  'order_sides': ['ask', 'bid'],\n",
       "  'bid_types': ['limit', 'price'],\n",
       "  'ask_types': ['limit', 'market'],\n",
       "  'bid': {'currency': 'KRW', 'min_total': '5000'},\n",
       "  'ask': {'currency': 'BTC', 'min_total': '5000'},\n",
       "  'max_total': '1000000000',\n",
       "  'state': 'active'},\n",
       " 'bid_account': {'currency': 'KRW',\n",
       "  'balance': '0.10351466',\n",
       "  'locked': '0',\n",
       "  'avg_buy_price': '0',\n",
       "  'avg_buy_price_modified': True,\n",
       "  'unit_currency': 'KRW'},\n",
       " 'ask_account': {'currency': 'BTC',\n",
       "  'balance': '0',\n",
       "  'locked': '0',\n",
       "  'avg_buy_price': '44512302.8151',\n",
       "  'avg_buy_price_modified': False,\n",
       "  'unit_currency': 'KRW'}}"
      ]
     },
     "execution_count": 34,
     "metadata": {},
     "output_type": "execute_result"
    }
   ],
   "source": [
    "ut.upbit.get_chance('KRW-BTC')"
   ]
  },
  {
   "cell_type": "code",
   "execution_count": 41,
   "metadata": {},
   "outputs": [
    {
     "data": {
      "text/plain": [
       "0"
      ]
     },
     "execution_count": 41,
     "metadata": {},
     "output_type": "execute_result"
    }
   ],
   "source": [
    "ut.upbit.get_balance('KRW-XRP')"
   ]
  },
  {
   "cell_type": "code",
   "execution_count": 160,
   "metadata": {},
   "outputs": [],
   "source": [
    "a = None"
   ]
  },
  {
   "cell_type": "code",
   "execution_count": 161,
   "metadata": {},
   "outputs": [
    {
     "name": "stdout",
     "output_type": "stream",
     "text": [
      "None\n"
     ]
    }
   ],
   "source": [
    "if a != 1:\n",
    "    print(a)"
   ]
  },
  {
   "cell_type": "code",
   "execution_count": null,
   "metadata": {},
   "outputs": [],
   "source": []
  }
 ],
 "metadata": {
  "kernelspec": {
   "display_name": "base",
   "language": "python",
   "name": "python3"
  },
  "language_info": {
   "codemirror_mode": {
    "name": "ipython",
    "version": 3
   },
   "file_extension": ".py",
   "mimetype": "text/x-python",
   "name": "python",
   "nbconvert_exporter": "python",
   "pygments_lexer": "ipython3",
   "version": "3.9.13"
  },
  "orig_nbformat": 4,
  "vscode": {
   "interpreter": {
    "hash": "ef8ac4889f6043c55355e98d75a56206a5f7d0164d5382bd7eb898daea766943"
   }
  }
 },
 "nbformat": 4,
 "nbformat_minor": 2
}
