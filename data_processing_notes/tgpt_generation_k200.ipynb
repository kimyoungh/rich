{
 "cells": [
  {
   "cell_type": "code",
   "execution_count": 1,
   "metadata": {},
   "outputs": [
    {
     "name": "stdout",
     "output_type": "stream",
     "text": [
      "/Users/kimyoungh/GoogleDrive/rich/main/rich\n"
     ]
    }
   ],
   "source": [
    "cd .."
   ]
  },
  {
   "cell_type": "code",
   "execution_count": 2,
   "metadata": {},
   "outputs": [],
   "source": [
    "import datetime\n",
    "import pickle\n",
    "import matplotlib.pyplot as plt\n",
    "import numpy as np\n",
    "import pandas as pd\n",
    "\n",
    "from data_processing.trading_gpt_data_generator import TradingGPTDataGenerator\n",
    "from trading.kis_data_loader import KISDataLoader\n",
    "\n",
    "%load_ext autoreload\n",
    "%autoreload 2"
   ]
  },
  {
   "cell_type": "code",
   "execution_count": 3,
   "metadata": {},
   "outputs": [],
   "source": [
    "loader = KISDataLoader()"
   ]
  },
  {
   "cell_type": "code",
   "execution_count": 4,
   "metadata": {},
   "outputs": [],
   "source": [
    "today = datetime.datetime.today().strftime('%Y%m%d')"
   ]
  },
  {
   "cell_type": "code",
   "execution_count": 5,
   "metadata": {},
   "outputs": [],
   "source": [
    "k200 = loader.get_timeseries(\n",
    "    '069500', start_date='20041230',\n",
    "    end_date='20230426', period='D')"
   ]
  },
  {
   "cell_type": "code",
   "execution_count": 6,
   "metadata": {},
   "outputs": [
    {
     "data": {
      "text/html": [
       "<div>\n",
       "<style scoped>\n",
       "    .dataframe tbody tr th:only-of-type {\n",
       "        vertical-align: middle;\n",
       "    }\n",
       "\n",
       "    .dataframe tbody tr th {\n",
       "        vertical-align: top;\n",
       "    }\n",
       "\n",
       "    .dataframe thead th {\n",
       "        text-align: right;\n",
       "    }\n",
       "</style>\n",
       "<table border=\"1\" class=\"dataframe\">\n",
       "  <thead>\n",
       "    <tr style=\"text-align: right;\">\n",
       "      <th></th>\n",
       "      <th>open</th>\n",
       "      <th>high</th>\n",
       "      <th>low</th>\n",
       "      <th>close</th>\n",
       "      <th>volume</th>\n",
       "      <th>turnover</th>\n",
       "    </tr>\n",
       "    <tr>\n",
       "      <th>stck_bsop_date</th>\n",
       "      <th></th>\n",
       "      <th></th>\n",
       "      <th></th>\n",
       "      <th></th>\n",
       "      <th></th>\n",
       "      <th></th>\n",
       "    </tr>\n",
       "  </thead>\n",
       "  <tbody>\n",
       "    <tr>\n",
       "      <th>20041230</th>\n",
       "      <td>8260.0</td>\n",
       "      <td>8440.0</td>\n",
       "      <td>8260.0</td>\n",
       "      <td>8440.0</td>\n",
       "      <td>2267109.0</td>\n",
       "      <td>1.896828e+10</td>\n",
       "    </tr>\n",
       "    <tr>\n",
       "      <th>20050103</th>\n",
       "      <td>8440.0</td>\n",
       "      <td>8468.0</td>\n",
       "      <td>8361.0</td>\n",
       "      <td>8418.0</td>\n",
       "      <td>1309079.0</td>\n",
       "      <td>1.100016e+10</td>\n",
       "    </tr>\n",
       "    <tr>\n",
       "      <th>20050104</th>\n",
       "      <td>8361.0</td>\n",
       "      <td>8440.0</td>\n",
       "      <td>8361.0</td>\n",
       "      <td>8375.0</td>\n",
       "      <td>683869.0</td>\n",
       "      <td>5.744800e+09</td>\n",
       "    </tr>\n",
       "    <tr>\n",
       "      <th>20050105</th>\n",
       "      <td>8332.0</td>\n",
       "      <td>8375.0</td>\n",
       "      <td>8260.0</td>\n",
       "      <td>8375.0</td>\n",
       "      <td>1248785.0</td>\n",
       "      <td>1.039094e+10</td>\n",
       "    </tr>\n",
       "    <tr>\n",
       "      <th>20050106</th>\n",
       "      <td>8353.0</td>\n",
       "      <td>8382.0</td>\n",
       "      <td>8282.0</td>\n",
       "      <td>8296.0</td>\n",
       "      <td>914020.0</td>\n",
       "      <td>7.610162e+09</td>\n",
       "    </tr>\n",
       "    <tr>\n",
       "      <th>...</th>\n",
       "      <td>...</td>\n",
       "      <td>...</td>\n",
       "      <td>...</td>\n",
       "      <td>...</td>\n",
       "      <td>...</td>\n",
       "      <td>...</td>\n",
       "    </tr>\n",
       "    <tr>\n",
       "      <th>20230420</th>\n",
       "      <td>33278.0</td>\n",
       "      <td>33387.0</td>\n",
       "      <td>33170.0</td>\n",
       "      <td>33293.0</td>\n",
       "      <td>6320778.0</td>\n",
       "      <td>2.105694e+11</td>\n",
       "    </tr>\n",
       "    <tr>\n",
       "      <th>20230421</th>\n",
       "      <td>33219.0</td>\n",
       "      <td>33283.0</td>\n",
       "      <td>33007.0</td>\n",
       "      <td>33125.0</td>\n",
       "      <td>4982093.0</td>\n",
       "      <td>1.651558e+11</td>\n",
       "    </tr>\n",
       "    <tr>\n",
       "      <th>20230424</th>\n",
       "      <td>33017.0</td>\n",
       "      <td>33066.0</td>\n",
       "      <td>32874.0</td>\n",
       "      <td>32898.0</td>\n",
       "      <td>4989862.0</td>\n",
       "      <td>1.645324e+11</td>\n",
       "    </tr>\n",
       "    <tr>\n",
       "      <th>20230425</th>\n",
       "      <td>32977.0</td>\n",
       "      <td>33022.0</td>\n",
       "      <td>32321.0</td>\n",
       "      <td>32484.0</td>\n",
       "      <td>3362951.0</td>\n",
       "      <td>1.097866e+11</td>\n",
       "    </tr>\n",
       "    <tr>\n",
       "      <th>20230426</th>\n",
       "      <td>32459.0</td>\n",
       "      <td>32597.0</td>\n",
       "      <td>32385.0</td>\n",
       "      <td>32449.0</td>\n",
       "      <td>2554614.0</td>\n",
       "      <td>8.299589e+10</td>\n",
       "    </tr>\n",
       "  </tbody>\n",
       "</table>\n",
       "<p>4532 rows × 6 columns</p>\n",
       "</div>"
      ],
      "text/plain": [
       "                   open     high      low    close     volume      turnover\n",
       "stck_bsop_date                                                             \n",
       "20041230         8260.0   8440.0   8260.0   8440.0  2267109.0  1.896828e+10\n",
       "20050103         8440.0   8468.0   8361.0   8418.0  1309079.0  1.100016e+10\n",
       "20050104         8361.0   8440.0   8361.0   8375.0   683869.0  5.744800e+09\n",
       "20050105         8332.0   8375.0   8260.0   8375.0  1248785.0  1.039094e+10\n",
       "20050106         8353.0   8382.0   8282.0   8296.0   914020.0  7.610162e+09\n",
       "...                 ...      ...      ...      ...        ...           ...\n",
       "20230420        33278.0  33387.0  33170.0  33293.0  6320778.0  2.105694e+11\n",
       "20230421        33219.0  33283.0  33007.0  33125.0  4982093.0  1.651558e+11\n",
       "20230424        33017.0  33066.0  32874.0  32898.0  4989862.0  1.645324e+11\n",
       "20230425        32977.0  33022.0  32321.0  32484.0  3362951.0  1.097866e+11\n",
       "20230426        32459.0  32597.0  32385.0  32449.0  2554614.0  8.299589e+10\n",
       "\n",
       "[4532 rows x 6 columns]"
      ]
     },
     "execution_count": 6,
     "metadata": {},
     "output_type": "execute_result"
    }
   ],
   "source": [
    "k200"
   ]
  },
  {
   "cell_type": "code",
   "execution_count": 7,
   "metadata": {},
   "outputs": [],
   "source": [
    "k200 = k200.rename(columns={'turnover': 'value'})"
   ]
  },
  {
   "cell_type": "code",
   "execution_count": 10,
   "metadata": {},
   "outputs": [],
   "source": [
    "pos = np.argwhere(k200.index == '20181228').item()"
   ]
  },
  {
   "cell_type": "code",
   "execution_count": 11,
   "metadata": {},
   "outputs": [
    {
     "data": {
      "text/plain": [
       "3463"
      ]
     },
     "execution_count": 11,
     "metadata": {},
     "output_type": "execute_result"
    }
   ],
   "source": [
    "pos"
   ]
  },
  {
   "cell_type": "code",
   "execution_count": 12,
   "metadata": {},
   "outputs": [],
   "source": [
    "window = 250\n",
    "gen = TradingGPTDataGenerator(k200.iloc[:pos+1], window=window)\n",
    "gen_test = TradingGPTDataGenerator(k200.iloc[-(pos-window):], window=window)\n",
    "#gen_test = TradingGPTDataGenerator(k200.iloc[3709-250:], window=250)\n",
    "gen_overall = TradingGPTDataGenerator(k200, window=window)"
   ]
  },
  {
   "cell_type": "code",
   "execution_count": 13,
   "metadata": {},
   "outputs": [],
   "source": [
    "datasets = gen.generate_dataset()\n",
    "datasets_test = gen_test.generate_dataset()\n",
    "datasets_overall = gen_overall.generate_dataset()"
   ]
  },
  {
   "cell_type": "code",
   "execution_count": 14,
   "metadata": {},
   "outputs": [
    {
     "name": "stdout",
     "output_type": "stream",
     "text": [
      "(3214, 8)\n",
      "(2963, 8)\n",
      "(4282, 8)\n"
     ]
    }
   ],
   "source": [
    "print(datasets['observations'].shape)\n",
    "print(datasets_test['observations'].shape)\n",
    "print(datasets_overall['observations'].shape)"
   ]
  },
  {
   "cell_type": "code",
   "execution_count": 15,
   "metadata": {},
   "outputs": [
    {
     "name": "stdout",
     "output_type": "stream",
     "text": [
      "(3214,)\n",
      "(2963,)\n",
      "(4282,)\n"
     ]
    }
   ],
   "source": [
    "print(datasets['returns'].shape)\n",
    "print(datasets_test['returns'].shape)\n",
    "print(datasets_overall['returns'].shape)"
   ]
  },
  {
   "cell_type": "code",
   "execution_count": 16,
   "metadata": {},
   "outputs": [
    {
     "data": {
      "text/plain": [
       "dict_keys(['observations', 'returns', 'timestamps'])"
      ]
     },
     "execution_count": 16,
     "metadata": {},
     "output_type": "execute_result"
    }
   ],
   "source": [
    "datasets_overall.keys()"
   ]
  },
  {
   "cell_type": "code",
   "execution_count": 17,
   "metadata": {},
   "outputs": [
    {
     "data": {
      "text/plain": [
       "(4282,)"
      ]
     },
     "execution_count": 17,
     "metadata": {},
     "output_type": "execute_result"
    }
   ],
   "source": [
    "datasets_overall['timestamps'].shape"
   ]
  },
  {
   "cell_type": "code",
   "execution_count": 18,
   "metadata": {},
   "outputs": [
    {
     "data": {
      "text/plain": [
       "array([[0.08148148, 0.62222222, 1.        , ..., 1.        , 0.29559094,\n",
       "        0.        ],\n",
       "       [0.99999999, 0.57894737, 1.        , ..., 1.        , 0.37265342,\n",
       "        1.        ],\n",
       "       [0.72602739, 0.8219178 , 0.98303432, ..., 1.        , 0.59714018,\n",
       "        1.        ],\n",
       "       ...,\n",
       "       [0.60126582, 0.9113924 , 0.05108173, ..., 0.05428571, 0.55242746,\n",
       "        1.        ],\n",
       "       [0.60507246, 0.50724637, 0.015625  , ..., 0.00736842, 0.21912615,\n",
       "        0.        ],\n",
       "       [0.51190476, 0.35119047, 0.05979567, ..., 0.05157895, 0.30523431,\n",
       "        1.        ]])"
      ]
     },
     "execution_count": 18,
     "metadata": {},
     "output_type": "execute_result"
    }
   ],
   "source": [
    "datasets['observations']"
   ]
  },
  {
   "cell_type": "code",
   "execution_count": 19,
   "metadata": {},
   "outputs": [
    {
     "data": {
      "text/plain": [
       "array([ 0.00498942,  0.00052655,  0.00631531, ..., -0.01302333,\n",
       "        0.01243392,  0.00417728])"
      ]
     },
     "execution_count": 19,
     "metadata": {},
     "output_type": "execute_result"
    }
   ],
   "source": [
    "datasets['returns']"
   ]
  },
  {
   "cell_type": "code",
   "execution_count": 20,
   "metadata": {},
   "outputs": [],
   "source": [
    "k200.to_parquet('train_data/trading_gpt/price_train_k200.pq')"
   ]
  },
  {
   "cell_type": "code",
   "execution_count": 21,
   "metadata": {},
   "outputs": [],
   "source": [
    "with open('train_data/trading_gpt/train_dataset_k200.pkl', 'wb') as f:\n",
    "    pickle.dump(datasets, f)\n",
    "\n",
    "with open('train_data/trading_gpt/test_dataset_k200.pkl', 'wb') as f:\n",
    "    pickle.dump(datasets_test, f)\n",
    "\n",
    "with open('train_data/trading_gpt/overall_dataset_k200.pkl', 'wb') as f:\n",
    "    pickle.dump(datasets_overall, f)"
   ]
  },
  {
   "cell_type": "code",
   "execution_count": null,
   "metadata": {},
   "outputs": [],
   "source": []
  }
 ],
 "metadata": {
  "kernelspec": {
   "display_name": "Python 3.8.5 ('base')",
   "language": "python",
   "name": "python3"
  },
  "language_info": {
   "codemirror_mode": {
    "name": "ipython",
    "version": 3
   },
   "file_extension": ".py",
   "mimetype": "text/x-python",
   "name": "python",
   "nbconvert_exporter": "python",
   "pygments_lexer": "ipython3",
   "version": "3.9.13"
  },
  "orig_nbformat": 4,
  "vscode": {
   "interpreter": {
    "hash": "ef8ac4889f6043c55355e98d75a56206a5f7d0164d5382bd7eb898daea766943"
   }
  }
 },
 "nbformat": 4,
 "nbformat_minor": 2
}
